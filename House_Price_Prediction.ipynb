{
  "nbformat": 4,
  "nbformat_minor": 0,
  "metadata": {
    "colab": {
      "provenance": [],
      "toc_visible": true,
      "include_colab_link": true
    },
    "kernelspec": {
      "name": "python3",
      "display_name": "Python 3"
    }
  },
  "cells": [
    {
      "cell_type": "markdown",
      "metadata": {
        "id": "view-in-github",
        "colab_type": "text"
      },
      "source": [
        "<a href=\"https://colab.research.google.com/github/SaiRamaKrishnaa/Linear-Regression/blob/main/House_Price_Prediction.ipynb\" target=\"_parent\"><img src=\"https://colab.research.google.com/assets/colab-badge.svg\" alt=\"Open In Colab\"/></a>"
      ]
    },
    {
      "cell_type": "code",
      "metadata": {
        "id": "oyZuT6YNrof7"
      },
      "source": [
        "import pandas as pd"
      ],
      "execution_count": null,
      "outputs": []
    },
    {
      "cell_type": "code",
      "metadata": {
        "id": "v5PzYXYXQBUy"
      },
      "source": [
        "!wget https://nkb-backend-otg-media-static.s3.ap-south-1.amazonaws.com/otg_prod/media/Tech_4.0/AI_ML/Datasets/house_price_prediction.csv"
      ],
      "execution_count": null,
      "outputs": []
    },
    {
      "cell_type": "code",
      "metadata": {
        "id": "v-_WMTAltw-V"
      },
      "source": [
        "df = pd.read_csv('house_price_prediction.csv')"
      ],
      "execution_count": null,
      "outputs": []
    },
    {
      "cell_type": "code",
      "metadata": {
        "id": "ANK_dzP4syGW"
      },
      "source": [
        "df"
      ],
      "execution_count": null,
      "outputs": []
    },
    {
      "cell_type": "markdown",
      "metadata": {
        "id": "KL75wKKzuq85"
      },
      "source": [
        "# Understanding Data"
      ]
    },
    {
      "cell_type": "code",
      "metadata": {
        "id": "zAyCyg2hutli"
      },
      "source": [
        "df.head()"
      ],
      "execution_count": null,
      "outputs": []
    },
    {
      "cell_type": "code",
      "metadata": {
        "id": "2D9Id5y2u18O"
      },
      "source": [
        "df.info()"
      ],
      "execution_count": null,
      "outputs": []
    },
    {
      "cell_type": "code",
      "metadata": {
        "id": "sf70LjMsu4vL"
      },
      "source": [
        "df.describe()"
      ],
      "execution_count": null,
      "outputs": []
    },
    {
      "cell_type": "code",
      "metadata": {
        "id": "r8Bu0VBhvBut"
      },
      "source": [
        "df.columns"
      ],
      "execution_count": null,
      "outputs": []
    },
    {
      "cell_type": "markdown",
      "metadata": {
        "id": "AgZGiXQdDgvw"
      },
      "source": [
        "The data contains the following columns:\n",
        "\n",
        "- **Avg. Area Income**: Avg. Income of residents in the Area\n",
        "- **House Age**: Age of House\n",
        "- **Number of Rooms**: Number of Rooms\n",
        "- **Number of Bedrooms**: Number of Bedrooms\n",
        "- **Area Population**: Population of city house is located in\n",
        "- **Price**: Price that the house is sold at\n",
        "\n"
      ]
    },
    {
      "cell_type": "code",
      "metadata": {
        "id": "iT8feHpQCfrf"
      },
      "source": [
        "df.shape"
      ],
      "execution_count": null,
      "outputs": []
    },
    {
      "cell_type": "code",
      "metadata": {
        "id": "D8O_9fvPCjJd"
      },
      "source": [
        "df.dtypes"
      ],
      "execution_count": null,
      "outputs": []
    },
    {
      "cell_type": "markdown",
      "metadata": {
        "id": "KK4WyZgm343-"
      },
      "source": [
        "# Data Preprocessing"
      ]
    },
    {
      "cell_type": "markdown",
      "metadata": {
        "id": "lVzvUbr7wBZ4"
      },
      "source": [
        "## Handling missing values"
      ]
    },
    {
      "cell_type": "code",
      "metadata": {
        "id": "ELa8-zrqwE9K"
      },
      "source": [
        "df.isna()"
      ],
      "execution_count": null,
      "outputs": []
    },
    {
      "cell_type": "code",
      "metadata": {
        "id": "svtzxINGxEew"
      },
      "source": [
        "df.isna().sum()"
      ],
      "execution_count": null,
      "outputs": []
    },
    {
      "cell_type": "code",
      "metadata": {
        "id": "brAKUb2W0Atn"
      },
      "source": [
        "df = df.dropna()"
      ],
      "execution_count": null,
      "outputs": []
    },
    {
      "cell_type": "markdown",
      "metadata": {
        "id": "TeitZGBkQyyp"
      },
      "source": [
        "## Handling duplicates"
      ]
    },
    {
      "cell_type": "code",
      "metadata": {
        "id": "iR-e90KGxHiP"
      },
      "source": [
        "df[df.duplicated()]"
      ],
      "execution_count": null,
      "outputs": []
    },
    {
      "cell_type": "code",
      "metadata": {
        "id": "rIV6Oq53C_M0"
      },
      "source": [
        "df = df.drop_duplicates()"
      ],
      "execution_count": null,
      "outputs": []
    },
    {
      "cell_type": "markdown",
      "metadata": {
        "id": "qfpNtKjHQ1aG"
      },
      "source": [
        "## Handling outliers"
      ]
    },
    {
      "cell_type": "markdown",
      "metadata": {
        "id": "swxe3VRCQ954"
      },
      "source": [
        "###Identifying outliers"
      ]
    },
    {
      "cell_type": "markdown",
      "metadata": {
        "id": "JJZyJ6niu7ls"
      },
      "source": [
        "**pd.DataFrame.boxplot(column=None)**\n",
        "\n",
        "* A box plot is a method for graphically depicting groups of numerical data through their quartiles.\n",
        "\n",
        "* For more details about box plot, visit https://pandas.pydata.org/pandas-docs/stable/reference/api/pandas.DataFrame.boxplot.html\n"
      ]
    },
    {
      "cell_type": "markdown",
      "metadata": {
        "id": "jCS1p2TLvbTW"
      },
      "source": [
        "![image.png](data:image/png;base64,iVBORw0KGgoAAAANSUhEUgAAAfgAAAD7CAIAAAAJqREyAAAgAElEQVR4AexdBXRURxdeggcnUOzHWqS4WwUrUArFSqFFSgu0EFwKlNLiUooUi288ECRAsQhJkIRAAvXihQRCcAmx3X0685/37u7lRYAA2RCZPXt2580b/Wbmmzt3TEfYhyHAEGAIMATyGwKy+pEkSXjKRxRFSZJkWSaE6Cj7MAQYAgwBhkB+QwA7JjGrD1I8ZCsd0UuSRAihlIqiSCkFp/kt+yy9DAGGAEOg4COgJXqj0QhsLwiCKIocxyGZU0qfKtELgsBYvuDXFJZDhgBDIN8iAEI5IUSSJGB5k8nEqx94hJxBf/BEoodnk8mUIeMg3WewZI8MAYYAQ4Ah8BoRQKIXRVEQBKPRCOI8sDxI9IQQWZYlSUpH9JBoYHxQ4YNr0PqzX4YAQ4AhwBDIOwigIh4pPikpCc2S5SOKopnogfjfe++9b7/9dubMmdOmTZuhfuzt7WfNmjWdfRgCDAGGAEMgjyEARD158uTZs2d/8803U6ZM+fbbbydPnjx8+PDw8HAQ7eE3HdHPmzcvLS0NpmFBuhdFEQYIr3GEwqJmCDAEGAIMgSwR0CpwRFHkeV4Uxb1794aFhWVN9JIkTZ06FcICtQ6j+CyRZZYMAYYAQyCPIEAI4TgO9O2SJBkMBkEQ9u7de/DgwSyIHph9xowZlFJBECAPsixrpfs8kjGWDIYAQ4AhwBBABIDlQfsiSRLHcYGBgcHBwVkQPRD69OnTtVK81oyBMgNDgCHAEGAI5CkEMqyg2bdvHyP6PFVALDEMAYYAQyAHEACup5TKsnzgwIGQkBAm0ecArCwIhgBDgCGQpxCANfGEkIMHD4aGhuIi+nTr6CVJYqqbPFVsLDEMAYYAQyD7CICyHST6sLAwkPHh98mGKUb02QeUuWQIMAQYAnkNASB6Qsj+/fsPHz6Mj5RSRvR5rbBYehgCDAGGwMsggMx+4MCB0NBQOM6MSfQvAyXzwxBgCDAE8iYCmYke08kkeoSCGRgCDAGGQD5GgBF9Pi48lnSGAEOAIZAdBBjRZwcl5oYhwBBgCORjBBjR5+PCY0lnCDAEGALZQYARfXZQYm4YAgwBhkA+RoARfT4uPJZ0hgBDgCGQHQQY0WcHJeaGIcAQYAjkYwQY0efjwmNJZwgwBBgC2UGAEX12UGJuGAIMAYZAPkaAEX0+LjyWdIYAQ4AhkB0EGNFnByXmhiHAEGAI5GMEGNHn48JjSWcIMAQYAtlBgBF9dlBibhgCDAGGQD5GgBF9Pi48lnSGAEOAIZAdBBjRZwcl5oYhwBBgCORjBBjR5+PCY0lnCDAEGALZQYARfXZQYm4YAgwBhkA+RoARfT4uvNeYdFmWtbHDpfJQmfAVPIIzQRAopaIowh1mYAkO4JUkSRggegRLQogoihAsOEaXYIBXGALEgm7wHmS0wRSiFwwWbGT1A+4zvAIHGaKAAHmexygyQAG+tJZaM/pCgyzLCAJYchyHbyFHgCRmAQ3ojBkYAogAVCdCCF4liK/YDVMIBTNkjQAhRJKkDJSEzAjchJwF9kh5GXzJsiwIArKV0WjMHCV4ARbOwK3aLgQCARuMnVIqy7KkfiBkURQxqWAD4WMKsU/SkqzWJYQJNth58DwP3R56hwC13QB6QZfQC2aImuO4DPAKgoD5ytzZYBogfPbLEEAEoG4zokdAmCG7CGRgavCGNJThrZbmgI9EUZQkSZZlUf1kjjU1NTWD0IrUCR0MeElKSkJ7SqmWlJEKISLkQeBT+KWU8jyPZnyFfQBkBHoXSDMmFboN9KvlfbREA6VUUD+QDMgCJgnhwjRjLNgH4CttmLIsa7Os9cXMDAFEACoYI3oEhBmyiwBSIVAYaFeQueAtCOlATKIopqWladkQmQujRBuTyQSWEA5UUxRvwVLbeQDXI+UJggApQTfIpGBAeyRNFJYhDeAds4MpBLUJ+gIWBmeoUYFHSAy6RAMEpX3keR4jguRB/wcBanHO4AyCwqxpw8QEMwNDACUhRvSsMrwwAkBDWnEY6RX56BmBItVCLYRHIFkwS5IkiiKyWJZhEkK0Ch8ICgkXegsMAUVjSBWI+VrlCTjYsWNHQkICpfTOnTv79u1D9uQ4DviXUgqWGaRp7VwCOICosQuBHEFGYIiAgVNKTSZTlnkEN4izVuOEgEPUz0CbvSrkCEBVZERfyKvBC2dfS9NAr0lJSe7u7q1atQKyRoUMkJcgCFDVjh07tmLFigzxIcGhRI+6daDyDOMAUKEgjcJbkKDBEgkUSRbZGYMCNwaDYcKECffu3QMHoijWrFkzJiZGluWdO3e++eabWo+YbMyOtvPYsGGDra1t2bJly5Ur17hx45UrV2qdQbzY3lDIgryDPaZNFEXs7bR6KkwMZhA9YoCYSGZgCCACWPHYZCxiwgwvgADIxeDBxcWlUaNGyEFAgkheYO/p6dmpUydgMZgdRWcotEJowIDwizoZTBn2DSALo73JZII6jcofZEBQHKFLCOHhw4c2Njb3799HDcmFCxceP35MKQ0MDGzUqBG4h8TD6AF7Ixw6AP8uWLDgnXfeuX379t27d7dt21aqVClPT0/Qa1FKMXZIHsSOSht4zMDpCAiOJIxGIzI74sxxHCQJX2EemYEhAAhA3WASPasPL4yAlpWAaDZv3ly7dm0IyMnJ6cCBAw4ODn369BkyZMiff/4py/Lly5d79OhRs2bNadOmTZgw4ebNm5TSuLi4mTNndu/efejQoREREcCe58+fX7RoUUxMzNChQ0eOHEkpTUxMnD17drdu3SZNmhQTEzNv3jxgyU2bNp04cQIilSRpzpw5N27coJTevn37u+++69WrV8+ePefMmfPo0SNwExYWtnnz5v379w8YMOD777+3t7cvUqTI2LFjJ0yYEBgYSCmdNWtWQkICIWT37t2NGzdGXj548GD//v0/+OCDBQsWQMoRMui3Vq5c2axZM+zYevbsCSmnlF64cGH+/Pnd1c+KFStgnlkUxT179mzfvt3X17dv375Dhw6FBEDfEB0d/emnn/bu3XvLli0BAQH+/v4AstFoXL169QcffNC/f393d3dYnoT9BCaJGRgCWgQY0WvRYOYXQABXQKKaxcnJqW7duiBBDx8+vE6dOnPnzo2MjJw2bVqVKlUMBsPjx4/HjRvXqFGjgICAbdu2paam3rlzp1atWjNnzjx27Jher69UqdKRI0copSEhIWXKlOnatWtAQMCBAwcIIT169OjZs+fhw4fd3NwaN25sa2sLlNqlSxdnZ2dIt8FgqFix4smTJwkhMTExq1atOn78+MGDB4cMGdKrVy+Q2Tdt2mRnZ9evX79ff/01LCxs69atNjY2rq6u27dvP3/+PKW0fPny0HPs3r0bVDeU0o0bN/7vf//z9/c/evToF1980aVLF1Cpa0Xp5cuXt2jRAsXqJk2azJ07FxIWEhKyYcOGo0ePBgUFdezY8csvvwT72bNn165de9KkSSdOnFi8eHHp0qVv3bpFKT179qydnd2PP/4YGRk5ceLE6tWrf/3119AB9OnTp3fv3iEhIQcPHmzVqtWiRYuwa8GoX6AUmdPCgQAj+sJRzlbIJVYd5JdNmzbVq1cPVDGjRo366KOPIFqj0Vi5cuXw8HBBEPz9/Tt06ABqB57n58yZM2DAAKSqZcuWDR8+XBCEwMDAokWLxsXFgdbir7/+Kl68+IMHD0BJsnLlSjs7O4PBIMty//79161bh/Oc1atXj4mJgXghYZIk3bt3r1ixYiCGb9iwoVKlSgaDAYK6d++eTqe7ffs2atsrVaoUGRkpSdKhQ4fefvttWCxUoUKFY8eOob6lUqVKv/32G8QCeeE4bu3atXXr1l2yZMmPP/7YsWPHxo0bx8fHo+IIugSDwXDhwoXy5cuDJmfGjBnt2rUTRRF0U02aNNm2bRuldNKkSf369cPVoi1atLC3t6eUnjx50s7ODgYEsixHR0dXrlwZ5nVRfW+FomZB5nsEsLUyHX2+L8vczACSO4jJ8Ojg4ABETykdPHjwggULgH0EQahdu/bhw4cppc7Ozm3atIGkyrLcr1+/t99+e9CgQQMHDhwwYEDHjh2bNm0K+vGqVatijlxdXZs1aybLMihJwsPD7ezsQMnz/vvvOzo6QldBCLG1tT158iSsmRkxYkTVqlXt7Oxq1KhRtGjRs2fPiqK4bt26Hj16YMh3797V6XT379+HkAkhFSpUgBD27NnTvHlzURQvXrxoY2PTq1evzz77bMCAAYMHD65ataq7uztQPDA4pXTZsmV2dnYLFiywt7dv3LjxlClTkIKvX78+YMCAOnXq1KhRw87OTqfTpaamchw3Z84cENUhPZ07d96wYQOl9N133924cSMm0t7efuzYsRBF2bJlhw4d+vHHHw8fPvyDDz7Q6XT37t2DHgjdMwNDIAMCjOgzAMIeXwYBoHtnZ2fQ0YuiOHz48FWrVoHgTCl988039+3bRyn19PR87733UITv2rXrmDFjTp06FRUVFRMTc+zYsb/++otSGhwcXLduXVj7aDQaPTw8cF5UEISoqKhy5cpBL9KrV69NmzalpaUB2dna2p4+fVqSpDFjxgwbNiwlJYVSmpSUVKpUqXPnzplMJkdHx+7du8M+KUrpgwcPdDrd3bt3sasoV65cdHQ0pdTf379p06aEkH///Ven0wUHB0dGRkZFRUVGRkZERFy7dg2RAsZfunRphw4dYGRw/fr1UqVK7dy5E9x06tRp1qxZEEtCQgKwsyiK8+bNGzt2LKAky3KXLl30ej2l9IMPPkCdjCiKY8eOnThxIqX0559/bt269YkTJ6LUT0xMzKlTpwwGg3a+BFPFDAwBRIARPULBDC+GAAr1qDTYsGFDgwYNIJRhw4Z99913+Kp+/fpBQUGEEFdX1w4dOuAW00WLFgHvA1cCS8qyfPDgQRwcUEovXbpUvHhx0F9TShcvXlypUiWQwfv27bt06VKg6XPnztnY2IA83rZtW71eDyqRo0eP2tjYnDp1ilK6YcMG0CkRQnief/jwYenSpS9duoTLY8qVKwfKn0OHDkF2eJ6vUqWKv78/9k+QR8wF6GdWrFjRtm1bBHHZsmVNmjSBlTPVq1cPCwuDV25ubsWLF4cFnVOmTJkwYQJ4lySpR48emzdvliTphx9+AFhgTVG9evXGjh0ry/LRo0fLli0LOiiO47D1Am4YNTMwBDIggFWFqW4yIMMen4MALi7EJR/Ozs4NGjSABY7Dhw9fsmQJMKPRaKxdu3ZISIgkSX///Xe5cuUWLlz4888/37lz59GjR/Xr1+/Xr9+hQ4f27Nkzb968X375BST6GjVqaIm1Z8+enTt39vf3d3BwaNiwYYUKFSBeb2/vqlWrurm57dy5s2vXrsWLF//7778JId98803Lli0DAgL0en3Hjh1tbGzOnj0ry/KqVat69+6NzGgymd5+++1PP/10zZo1Z86c4Xn+jTfeiIiI4Hl+//79jRs3hsGKp6dn5cqVV6xYsW/fPn9//4EDB8bFxSFAPM+Lorhq1ar27dvD2nlCSHJycsWKFV1dXSmlgwYNevfdd3fv3r127drOnTuDsghW+IwdOxaVP++8846TkxOMM+rWrdu3b9/ly5f37NmzWbNmkydPhjQPHTq0RYsWfn5+hw4dWrt27aRJk7CL0na9mDZmYAjgRBFbXskqw4shgAICcjEsdPnpp5+Aj/z9/YODg5F61qxZ8/fff4PCJDw8fOHChfPnzwcJPSUlZcWKFf379x8yZMiSJUuuXr1KKb1y5crKlStxYQ8sil+4cOEnn3wyb968kJAQJHqTyaTX6wcOHDhx4sRr164tXLgwNjYW1DUrV64cNGjQlClT/vvvv5UrV966dUsUxd9//x3UI5jhS5cubdy4cd68eaBcWrZs2fXr1yml//7779q1a6GREEKioqLs7e0HDx48cuRIb29vGKygZp9SGh4evmbNGgyW5/kdO3ZAv3X//v3p06cPHjz4u+++u3r16ooVKxITE41GY1hY2Pbt2yEKQRD0en1ERAQ83r17d/369YsWLTp16tRXX301a9YsDNnLy+vTTz8dMmTI7NmzYZyEpYBumIEhoEUAGyyT6LWwMPNzEIB6g3OAqHhBxgFBGAVnrXswoxiLVRCizHwmAdjDQTfgKzo6uly5cnj0DVhiGnC5JzrAZIAbHIJksEdFEzjDIUtmAwrRCBNu1NLu7YKIYEWQNnDEDQ0QDjxCCPfv34fHc+fOVatWLTg4GFKlDR9stNnE9DADQ0CLALYyRvRaWJg57yJACDl9+nTlypW120SfllxkUm3/gbt5cckQUrk2nAz9B/I1DoS1jl/RjOlEQ4MGDdq0afPOO++UL19+3Lhx0FCB2V8xLua9ECLAiL4QFno+zjLU16SkJFBxgGT9XPrDg3copbDEBZgdDwWDEOARpk/BBmgX9DNa1CAZWptXNGeOiOO4P/74Iyoq6vbt2/AWI8XB0CtGyrwXHgQY0Reesi44OQUWBpXFc1keHaCwDIYMyiV8izBpD6KBQKB7AJ7VnqyJXl7dAJ0KrOfBI27wPB/My6tHxEIoVAgwoi9UxZ3vMwv1Fc8HRv59WsYkSbp8+TJsShJF8cSJE+fPn0dBnhASFha2Zs2atWvXhoWFAb0C1f7+++/71c+ePXv++ecfbTewadOmXbt2PS3Gl7OHfGlFdTRrT2cDBb02MS8XHfNV2BBgRF/YSjzf5xcZEHPybDn3k08+cXFxgXnXjz76aMqUKTBj/Pjx4/fee69mzZrffPPN119/XatWrX79+sEGK0rp+PHja9So0bt37/fff79y5co9evRIS0sjhJhMposXLzZs2BC2KWEaXtGAWQApHgid53lk+QwnHr9idMx7YUOAEX1hK/F8n1+ospRSWHyJFJllxv7+++9KlSohXfbp0weIXpKkIUOGdOjQITU1FQK8fft2o0aNPvvsM1ge88UXX4wYMQIW8Fy7dg3PHIaZ2I4dO/r5+T076izT8zRL2L2F+3VxORC4h3X6YEaN09OCYvYMgcwIMKLPjAmzybsIoDiPfPdstl22bNmnn36Kc7ADBw6cPHkyIQTOIQgKCgLv0AwCAwNLly59/fp1QRCmTZs2ePBgAEKW5SZNmixevBgXMq5YseLzzz/PWRWKJEnQIeGiIOhyMMtZLg3Ku0XFUpaXEGBEn5dKg6Ulewjgski4qPYZnt5///3169eDA0mS+vfvP23aNDhyp2zZsniKAKzeSUxMLFKkyIEDByilX3311SeffAIez5w5Y2NjExwcjBEdP368dOnSmVfjoIMXNWC/BQ0ys3foVKBbytkOJnNczKbgIcCIvuCVab7MER70mLOpr1+/Phz8CyqXjz76aPbs2YIgbNmypWrVqri4HpbQ8DxfqlQpHx8fQsjXX39dsWLF+vXrN2jQoGjRoitWrEAKFgQhLi5Op9PBsck5m2AWGkPAGggworcGqizM7CKQpXCapWV2Q0zvrl69ej4+PmDH83zv3r2nT59OKd21a5dOpwOJHhn89u3bxYsXDwwMlGV53LhxPXr0uHjxYlRUVN++fbt06aJdjH/p0qXSpUtrD7BMH+1Tn3DX7lNdsBcMASsgwIjeCqCyIPMMAu+88w6cBwlKj969e8+cOdNoNCYkJBQtWjQgIABPJiCE+Pn5lShRAi6MHT9+/KeffgrKmZSUlNq1a8OpNaDk+e2330qVKoVH8eSZ7LKEMASyRoARfda4MNvcRABlajTkVOxz5sz5/PPPkc0//PDDGTNmgBpn1qxZ//vf/1AqP3/+fP369WfNmgVnu3/11VewAgd0SqtXr27QoEFaWhrMCri6unbu3DmnEpnjuc6phLFwCgwCjOgLTFHm14zAYhLtbw7mJDo6ulatWrBwRRAEIHpQDaWmpo4ePbpMmTIffPBBv379SpYsOXHiRHApSdL48eM/++wzXOhiMBiqVKni4OAAafvoo49++eWXlyNomBjQ6nBeLpwcRIkFVeARYERf4Is4T2cwS47L0vKls9GhQ4f9+/fDJqlr165pZ1BlWU5ISNi7d+/8+fMrV6585MgRSf1QSi9evAgnzgP1E0KuXLkCRyifP3++Ro0acHHrS6QKu7SX8Mu8MAReDgFG9C+HG/OVwwhYadWNJEknT54cMGAALFEHtQwhRHvYLwj4Tk5OzZs3v337tiAIuDYfrvCGrOL5M8uXL3dycsJzFF4RCEIIrpR/xaCYd4bA0xBgRP80ZJh9biAA9U+W5TT1A5ybgxK9dj8UbnfCjOFCeGR2tME0gAHXuaNLDORVDLBJ6qUHB68SNfNbqBCAavz6b5jCg/pwaZ12hIv7YrSyD7RbzEBmkRAca7kDzirRnieOvjBevDoD6gE2bK2DQlVFciezmzdvDgoKKvAgY/+Bvc62bdu2bt2aOyAXnliwIuG16dCQcasdQqFdOgXdvJZkgA2QBNCgnWKhlOIAMfP4DMLE9KDEgF4wJVY1IE/miYtHIPOyLCOgmTMPKcbiyYA4kLh2EzmsuECgcQEG0r22wzAajRA1hA9Fjo0zQw3InDZm86IIQEdLCHFwcABNOiEEC/dFQ8sX7lGmgdR6e3t7eXnli5Tno0Rie4c2C40aLQVB0N5aIwgCbpIAN9jkwSP2yoAAqgHhEaLA85SQYfDueJBZkdO0+sBcgzSvED1K1sD1oijC/Q/79u2bM2fO0qVLd+zYgSNcbYFhkYBHk8kENAFuAgMDR40aBWhOnDgRDqKSJAm6WbzHOUPHoCV0KB7sh3OtYApJRFh8er1+9+7dWLIFNfuYX1iPLwiCn5+fv79/Qc3va8wXUArWqGvXrm3evHnmzJmrV6++ePEiiOpYHGDAqXhKaWpqKp4lByQwZcqUbdu2iaL4+PHjDh06JCcnA6djIBgm2GQmDUwMUH9uCjSQpNevusF04FRYYmJiq1atGjRoMHfu3FmzZjVr1qxbt2737t1DsLT3QuBZhnjaFFC5j49Pp06doMdesGABHleC/Qp2vziM4HkeigHHVlBgmYvtNVbighQ1lLijo+OBAwdQ6ilIGdTmBaqZlhr8/f39/Py0bpj51RFA0Q2g3rNnT/ny5QcMGLBixYoRI0aUK1du0aJFOKaH6FDQRjmvbt26QUFBKBR27dp1w4YNlNKbN29+/PHHPM+DF9QOcRyHihqgKQgKtQ5QvbV3Ur56TrMZAhLsa1bdZBjPchzXrVu3Ll26YKf38OHDNm3aDB8+HJYhQ0EC+RJCQNg3GAzff//9sGHDoGcWBMHLy6tdu3ZQolAe2n7in3/+iYuLQ7UaDtAeP358/vx5QDAhIeHs2bPx8fHaoVk2wWXOso/Ali1bQkNDtR1w9v3mX5eiKHp7e+NpPPk3I3k25YSQCxculCpVysHBQZZlYIzjx48XLVo0MDAQx1WQfiBiURSBdt566y3YO81xnCiKffv2xY0UYAO+CCH3798/e/YsXGYA2gjgGVmWL1++fOfOHSCfhISEv/766+HDhyBf5qZYk1eIHiDDvvTy5cslSpSIjo4GG8A9ODi4WLFiN2/eJIS89dZbQUFB4MtgMJQoUSI2Nnb37t0lS5a0tbWtWrVqrVq1Hj586Obm1rVrV7gmtFu3bk5OTnB81a5du2rVqtW0adM33njjgw8+uH//PiHkxo0bOp1uyZIlNdQPx3Hjxo2zs7Nr37597dq1e/fuDdGx3xxEAGXb9evXg44+g5yVg3HlhaCgKuI4klLq6+uLp/HkhRQWjDQAzwKtz58//+233wZZGw/6/+STT7p160YpjYyMtLOzQ/WAk5NTnz59KKXDhg3T6XRVqlSpVq3a6NGjKaXdunVbtWqVLMvx8fHFixcHL2lpaePGjatYsWKbNm3Kli27fPlyoO/58+f36dPn/fffb9CgwcSJE69du9aqVSs7O7t27dpVqVLFw8MjN1ke29TrV91A9QJalyRJr9eXKVMGlCfYNh49emRjY7Nv3z5KaePGjffv3w80cffuXZ1Ol5CQQCldvXr14MGDEUS9Xt+6dWvIZ/fu3bds2UIpPXfuXPny5UNCQsB+xIgRI0eOhJ6/aNGiX3/9Ncdxsiz/+eeflSpVunPnDow27t27x7Q31mABGNh6enru3LkTRrWCIPAF9IM13GQyybLM87xer9+xY4c1gC3kYeJwv3PnznCXJLR3GO47OTlVrFiR47jff/+9XLlyyBi//PLLu+++C8RSr169gwcPovTZt29fOPIaJEKj0SjL8oIFC7p27ZqSksJx3I0bN6pUqXLmzBmj0bhs2bIiRYqEhYUBmcydO/ezzz6DAavJZIJdexhyLpRU3pLoUZm1ZcuWSpUqoaINJ1ptbW19fX1lWX7rrbdAABRF0WAwFClSBPYxLliwAC6agJLz9vZu27Yt6Nx79eoFKrYff/yxV69e8eonLi4uICCgZs2asBlSp9PduHEDKkRsbGypUqW8vb0TExNR8MyFIin4URBKiTmXMiUSkQml635Z36lTp0GDBvXo1n3wwEH9cunzcb9+H/fr11f9mqP8qH8/1bIf2Pf/qF//j3IsNR+pnw8//HDAgAFgbteuHVt1k+N1HjgU5tu6detmb2+fgVU9PT3LlStnMpkiIyMrVqwIFCEIgqura8+ePYEB6tevD5cTQPPv0aPH5s2bKaXXr1/X6XRJSUmEkDp16jg6OsbFxd28efP69eufffbZnDlzJElasGDB+++/D/kihCxevLht27YxMTG4UhynAHM871kGmFeIHosB+uGAgACdTgcaG1zMlJCQUKRIkSNHjoDqZs+ePVAeSUlJRYoUuX79OqX0hx9+GD16NIBICPHy8mrbti3kvHv37k5OToSQsWPH1qhRo2nTpi1btmzdunXbtm3btWsniuLly5d1Oh1UDvDi4eHRrFmzChUqdOjQ4eDBg1kiyCyzg4CF2FWKlymVFQOhVPMCFEAAACAASURBVCBUolSkdKPDlj2/7lZeEJmKAvYE2Qn8JdwQqvQuSizKn0ipoKaJEipLaK1Yckp61NS+RCxZeiEWLARBIoT6+m7dtm17OpeQqsy/6Ryxh+cgQAgBMunbt++nn34Kkh/8EkJWrFhRu3ZtSumpU6fKly+Pg/UtW7Z07doVnNWqVQuIHhRBPXv23LJliyRJCQkJNjY29+/f53m+fPny9erVa926dYsWLVq1atW2bdvly5cTQubNmzd8+HDUFKWmpk6aNKlWrVoVKlQYOXLkzZs3McbnZCOHXucVoofsYC93/fr1EiVKbN++HSAGxbqDg0PVqlUfPXoEV7vt3r0bzhO/efOmTqe7d++eJEmLFi3Ci4EopX5+fhlUN6IoTp8+fcCAARliJITEx8cXKVIE5nW1IvydO3fWrl1btGhR7TEpOYR/YQnmiRBPVEa1UKdEqYEXgOh/3b+XUlniTAq3WvNDKJUshK4SvUroaowq0Zu5XmF5ajQTfQ6lR5KUmoVcTwj189vm4ZF+HX1min8CXw6lo6AHg6tfRFHcuHHjG2+8AZoWUJfJstyrVy+4KvLUqVOVK1eGWROO45YtWwY6elAbINFLktSrV6+NGzdSSuHaGVAuVq1adceOHdAxaCcGvv/++5EjR4KuBhIDS3TOnz+PUecm1+chokehHqh27ty5VapUuXDhAujo//333zfeeGPp0qWA6cCBAydNmgTVdcGCBTqdLj4+nlK6efPmjh07gr3JZHJ3d2/fvj0I/n369IFy+uuvv0qUKBEWFobOrl+/LknSmTNnypQpg8tj79+/n5ycDKn677//SpUqBdMABb2NWCV/T5hKy2JqVIIkEkodnZ0OHTqklJQkgzivdZjjZpXoFaFeFa9FVahXUqNK+mgPHUDOp0ciMuRaIvKOXTu3bfe3pMQq4BfOQEETIIpiYmJi48aNBw4cCMQqSdLSpUvLli179uxZSunDhw9tbGxOnjxJKU1LS2vRokW/fv1EUeQ4rnXr1q6uroCeIAhAIJIkgY4eFs/MnDmzc+fOaWlpQFPJycn37t3jOG7hwoVaifPChQsQjiRJCxcu/OCDD3K5UPIK0WPnBsoySmliYuKcOXNsbW07dOjQokWL0qVLz507F5X4x48fr1ixYpcuXVq1ajVt2rSSJUveuHGDEPLff/81aNDAzs6udu3ajx498vHx6dChA2DapUsXmIyVJMnV1bVatWqdOnXq3r17nTp1vvrqK0ppfHy8jY0NjirCw8NLlSr17rvv9urVy87Obvbs2dBj53IJFYzokKnN2cFnMMhk04aN+/fv53kRemWr5hrZXKF5/JoHGaBXgvjVDgAc5FCCtCNFkCI9PT2VywvNXU4ORVPogwGWhwbLcVxcXFynTp3Kli3bsWPHmjVrNmzYMCIiAsXwqVOnVqxYsXv37s2aNRs2bFjXrl3Bo4uLS/ny5atVqzZhwgRKadeuXTdt2iRJ0u3bt0uUKJGUlCTLcnJy8scff1ylSpUBAwZ06NChcuXK4eHhlNJ58+YNGzYMtlDxPD9lypRKlSr16NGjU6dOdnZ20dHREHuuFVReIXpIB2YeKfX+/fvHjx+PiIgAQRtZAI7BOnTo0H///ScIwrVr16CrgG3H9+/fv3fvHs/zcL0naMoeP36MeyJgg9Xx48ePHTsGyn1CCM/zCQkJsH8HRlsPHz6MUD9XrlzRLonLteIpMBEhnaoGIFP1V5ap8qWujk7BgSHgTDJrbjTOFDV5jn8tQUqKKkdR1Itgoyrlgfe16c6hBBDZHA0lEqWyr4/Xju3b1MHEk04Ho82iAsC7LF4wq4wISJKEEqQsy1euXDly5EhMTIx2Tww4OHv27OHDh5OSkjiOAw0tuElKSrp3797t27dB9ASx3WAwxMbGAolDlFevXg0KCoqOjoal9CaTKSkpCTW9sIj+ypUrR48ePXHihNFoBHpBmTJjuq3wnFeIXkujkH9QgYEIz3Ec9gGQYtCogBlhwd4C9y5DhwEqftygDAYoSLweOkNQsJMCvGOvgxExw4siYGZwlVElZSJUZW1lnlOmokQl6rhh0+5dvxJKeaLMgaof0JlY51eZ9VWlaOg+nhC9TImopCoD1yoqnpxJiSwJCgBEUpRUVN7q6+frrdxqixFqDVngDK+zeMGsniCAu1XhxDGgC9gRCc0Z+QQcYBvH7ZMYFr4CEVDrkVIKlA10gV5QCw0kltk+QyDowHoG4LfXv44eockAAdjj+QSousHpbIBGe0QRbqbV9tvYkeBBN4ipoH7gEfoYWM2N1I/hYKGiX2bIPgLqFKgiOoN+3CxCyzKVZGoSdm31DwkO52RqUOdApeyH+5IuYaUNCNcaxld6GaOaBIFSMf3c7EvGpPVGCEXigGFlUFBIQECAltwzm7UhmDuEdFbsIQsEUJaHd9ickZRRS4yekV5w/xSlFPfxoDMIGY/CBVpABkOWQCKCw6jBOwqdmXsUDN8ahrxC9Ig+MLi2Q0a8AEooHugPtEWF+ILADs0JfvFoOnSDjQ37FbTRVgjUFGXoV6xREoUhTAvXy6pQr+hKlDU2qupG4ngFZErTiLLYBdc4Zma9HLKRicLj8FXIU/kof0+IHpZagkYnhyJ9IrbzggRhCqJ57vcZUaSrG+AunRV7yAIBbNFIwUDQYI/NHEVJaOxoD46RMfC8M/COvAERgyyId9HgYnntCcZaitPyWxZJt4JVHiL6HMldhgJAQT5HAmeBvDwCFnqyLG0ErpcVhbWiwFEX1atEz6u/ZuZ9+fie75PnldU+kmzuVBQPSiLVhfzKr/KIGh1rp0erQlRSpW4iA8zw15wleH5+/piLnEEAKQVJP2fCzd1QChrRgziPI69ly5bBPrfcRZXFlgkBUIWrfGnRh5i5XhR5WRKeTFHKxLzCEhnOCgbJZN4GZZGsRVVdY1L4HZJqmYxVlr1DbqyQDOhOtL9AKxCVKJulfng0Y5ruIRPOzCKnEQB1LiFk6NChc+fOxeN1czoe64ZXAIkedXOSJE2bNq1Ro0Y4iLMuliz0ZyCALKnKzbjORVXRqMxKRCrwVBCUryhQSVQmRa30lWRFScSrG3MV7Y1RoA8ovU/oAyVGFOMhlWbGVydprZQeIlJeBLqXBJHKyi2yCBgazOgyon9GNcvpVyjOE0Lat28/ZswY1O3kdFTWDa+gET12v7CyauzYsbAz1roostCfiwDSlVmoN9MpT2WTKIiC8eq5fw75eod5eR519zjq5hbq7n7Yw1rfUHfPIx6+h109Q729gv1c9vmu/jdmq/HB0eCdK4K8nA+7e4fpPcP07mF691B392AP72AP78PuntZLzyEvz/3btl8+e54KEtC9uiBHWeWTHjYVZUb0z61sOeoAuJ7juLZt244bNy7Dgeo5GpUVAytoRA9Q4fTLsGHDWrVqZUX8WNDZRQDEdtCDK35AbuZVA5WFf08cXzd96q5Fiw98933Q3O9D5s0PnWutb9ic+cfmzA/7dk7YgjlBP9rvW/xZ3P4F9LJj0E+DAhfYh8z7Lmzut+FzZ4XPmx4+b3rY3G9D531nvcSEzp2/7/tFq6bNOhV2jPKSojhS1EdKf6gsArEAZlYfZRdt5i7HEADZkVLasmXLMWPG5Fi4uRtQASR6PJVMluVRo0a9++67+XoWJXfrg7Visyyct2jALfOcJjPRi1ejo1xnzPzP0/OBl1+ym7fBzcvo5mGlL+fqIbroORfXJOdNSd4/P945n0YuplfXPtjxdbL32jR3Pefmxrs5iW6bRLdNvJsL56a3Ukog2LveWx3mfP/vqTOqQklS5PqszoGwVtmwcJ+OgHbtTceOHb/66isUIp/uKS++KWhEn6EYPvnkEzjrJi9iX2jSBCttVK63EL26qgX05BKRqSTERhz3mDzproeP7LlVdnKTXfWyq6uVvtRFL2xwpG5exMsj2e2n5O3zaPQSenVV0q6vDd7reDdv2cWTOuupi4PyVQzuVk1Porf3xqkz/zwWRXlZOc/TItRnkOiZzuZ1tRjQ3jRu3Pjzzz/XLrl+Xel5iXgLGtEjBJCxwYMHs1U3iMnrMqgMpayxURKAy1osQj0vClQW4yKP+dlPfuDqQfVedLMjdXQkTlus9KWOjlTvI2xwlFxcBK/1Sb5z6LHv6ZWlKbvGGdzXiE6exMGTOrpSxy3UcTN1cKUObsTJiulJ9HDXz5p7LuKk+dRmomwwyCzUv67iK+TxIkW2aNFi7Nix+RQNzMVrvjM2p+CD/OAymw8//BAOHc2p8Fk4L42ARd2sOV1AXbmoap/FSycj/OwnJ7t7ya566uREna38dXKhzi6Si5PJfY1x64/0+BIauyJx15e8x2rqpFe+zi7U2UH5qi6tmp5kDw/PabPOHY1QyF3VzisgwypPtWc0HxrBRPqXrnyv4BHJpHnz5uPGjXuFkF6n1wJO9L169froo49eJ8AsbkBApXM4/8DMYRbiV//F86dymeiVjkRydTC5rzH5LabHl9G4FYkBX4juq6mTG3VyIy7Q0zhYleIh8BR3D69pMy8cOU4l5UQIM58/jejZtGzutimgSEpps2bNGNHnLvbPiw3Lpnv37njHyPM8sffWRIAR/dPHKIzorVnzXjVsJJOmTZuOHz/+VYN7Tf4LmkQPMGKu3n333aFDh74mbFm0GgQY0TOi11SH/GUEPmnSpAleMp6/0o8TyK//9MocBA57YFmWO3ToMGLEiBwMnAX1kggwomdE/5JV53V6Q5GRUtq4ceNvvvnmdabmFeLGjBSQyVjsu2C/SevWrb/88stXwId5zSEEGNEzos+hqpSbwQA/wnxso0aN4Kqp3ExATsVVAIkeZ8klSWrevHn+VavlVBnniXAY0TOizxMV8cUSoSX6Bg0aTJw48cX85xnXBZzomzRpkn9HW3mmkuREQhjRM6LPiXqUy2EAP8KGKUb0uQz+86PDC0nq1q07bdo0KK0sveFRl9r7B0DtYz5sRDlXiuIhdlkGwiyfjwAjekb0z68lueQC+AFpAQ1ZRo8agvr160+ePPnZjrMMIS9YQrIL1GSsVk1fu3btmTNnPrts4D5xrS8trUuShCWNhrxQcvksDYzoGdHngSqLF0VBWuAUrGe3a3zLiD4PFGD6JCCz16xZc86cOfiY3pXyBK+gLDM4w8PRwBnK/pkDYTbPR4ARPSP659eS3HAhqx8YpgPRZ2j4GRKBb4HoM7zNL4+Qi4Ip0RNC3njjjQULFmBRZS4VLcXLspySkgK0DvZ4UxUqczKHwGyyhQAjekb02aoo1nWkpQLQ1mY4BjFz9OilXr16U6ZMyewgX9gUZKIXRbFSpUpLlix5RknguEx7Xe+AAQOWLVuGhxvn8n3tz0htPn7FiJ4RfZ6pvnh5NyHk+++/HzJkyDOShhTJiP4ZKL2eVyiPlytXbtWqVc9NBNI9aOdbtmw5Y8YMGNxhf86mZJ8L47McMKJnRP+s+pFL77TSG0Q5evTo995777nRE0IY0T8Xpdx2AMTNcZytre2aNWueET0M3LTiPM/zDRs2HDt2LE7SapU5zwiKvXoWAozoGdE/q37k6jsYo4MMN2zYsJYtWz43ekJI3bp1p06dihN7z/WSpxzguKRg7IxVTjxXDjyXFYPJZCpVqtS6deuyiThMtxJKmzRrOnnyZPRlMpnAjII/vmKG7CJgJno4lT7dtYLqtSTq6ZWT7JM9PCQ3V/V8YGsfU5x3T69UL0xnxxRnt2Zlz516F4LKDNpWLMvymDFj2rdv+wRuTXCW81UVSpGIXKdeOqJXa7TySv2Yw1ee8asJ6rUb8y3Rm89yVQAkyhne8BUJlUXlVG+JUDkpJbl0GdvNDluUTBJKJMWxcrevrNziY/6qy+ShGNQrMSSJyg2bNppgr2yBg5cWjCRLbYADZC1F+9rLMH8kQAFNUi7UEDMfUyxR8Vz0MZ/JE5M99JLekbpssTrXq0fe57ljihUSkrIiepVQLAxiIZf8UfCvO5XQWi21Ln1qCCGjR49s264loSIx18wnRC1RyitfWaRUoFKtev+bOl2ZjJXVKxWgmAQCfKKGTyRKLNctwDVhanR5obwsJEbym0SfBdErRUWoKFD+9G8xh4IOJqUkFylqs2nL5gcPHuz/9QAl1KyoobJBSCNUFiQe8o+lrzYzRvSIR84ZlMquiPNP7pnS0JZE5XPRET6T7B97ekhuzoWV6CPUoagikKhoqR2iajbbaBDLuYIp8CHJVGFw+GYUzp5L9CKll2/E++/eZRBNNerUnDFrZuLDR1t9txlNoqBekabecS+pnYRIiaAQvSybL42xELzl/3VCnW+JPh1oKGIr8rqRMyxYsMDW1vbGjZs2NsU8PLy++OLLalWrG9NMsiwrq+NVcZ5SWRA4xajpM2Ao0LhJIzjU4ukSfbro2cPzEVBBVi8esYxtzTejKsMmidLzJ0/62E9/7OEnubqrtzsVQtWNcsOUrI48MxC9mSksRK/2A8+HnLlQEUCiB5ZQ7SzUmyXRo0ivKhWps4eHrljRsxcvVK9ZY968+UsXLytd0jY1xSSI6FBRD5j7EkWitwj1GEseKImCRvSgFjh37lzJkiWnTZthY1Nszpx5JUqUWrdmPTYPozFNIjCUU51j+7Hsn3r77bctRK+UlYqRTBRJCweAGUWDPFCUeTsJKq2biR4mUuDyWLWfRaJPdveTXD0LK9HDDVOKdKFUOwsvoVyCvJK3SzpPpc7Cv8+W6Nu2toBsSbyFEySZPk5KqVS5yhdjvqpZ83/jx35tV77yV6PGijwhKgeotZioRP9E3MxQUhbCtwT+Ov7zK9GbG4MWMtVK5AUFZZmO/HxUxfKViuhsytpWqFa1empymslglEXQsyve0OWTUrFQj0r031AK5G6meEIFRVOXbhioKVpzu2Q2T0FAaRYiUW6/BhgBSaWtEEWfI5w/dcyv8E7G6r2mTb9w9CiVxXRXCZr5HtTHFiHjSSfwFKhZVXyCgKpdT1fltJRBCZEUHb2Z6C2vLCyPzLB61VrbUuVKFrctaVOqTImyN2ITlBhUZ5o5Pot3kGM0T3nBWNCIXp10VYZO589eKF60RBGdTcnipTZv3CIJ5naSmpIE6hqF9C3MjiUK5dekcVNVotcSfWaJHpqZthBBzGe/WSGgDKEUlieUo+bvk46TUO589FG/SfYp7h6yayFfdZNeoldp3aIZUKvcE/kwK5yV+sjssVVmR6IfrRK9wgHmDxC9pRvl0wQqUrvyVYrqipUtWe7rL79RVI2Wtxpv5sV+T8KxhJcX/gsE0WsLxiL3UJl+3G9AMZviTZs2T05ONmvkoXyUFThKZyAJIuQfSwIaWZPGzSdOmKL0GWq//eQXdQ6Z+vwnXQV7lSUCCvmYV0aZB0YKrGZKIlS8eDJi68SpKXof2cWdOrlY/UruvLbqZuq3F46coJJlzgjUwyA2giaH1b0s69VzLbFtZwUgkenoUV+1bdseXEFgZh+qFChzyuoBPoVfs3JtUVVqvHDuotLYzav2zHK9whXwpUovkE4RlC5QbWpy1VzgiF6mkqCQOCHk999/1xXRubg5g0CkKA2U9U8gyBNVjaOM3VTVgbIaBIqPUvr2200nTpykVAy1dzb/WgZrjNNfGgG1zltkIU0DIFS+ePLE1onTU/R+FIheJWIr0n2eI/pZSPTmNTYgNmrXCmgQe+kiKHQetXQKAGp+syJ6FEfUimrpcVMeJVerWv3rr78mlIqyYBHpVaKHCXQL56sTUWY+USLXlpo2Mblrzr9EDzPdKloAJRCIaobF8hIVryZcNRGjSAVOTIOpVEU1b6YaIitkL4pU5CjPUV6kIq88krebNrGf9DWo4wXRCAalS1DmYy089cSAE2eZXzEbQMBc3TNOxlragCgL509EbJ88I9XdV3J0IQ4OtHARvd535qxz4aGUCDJVVnMoAoaCnPKviofK9AbOD1lWfLPalR0EMq6tVGZOYSSp4CuMGv1Z+w6tgXVVVpdFpQgEgXIWzGVFAUDpnXt3k40pgvpWMjtQTsIEVpAsi3DUNRuM6HOoH8ticKSyhiSIKn3LJmJKISlGajBQo4kaRcqJMidJ6lStQERe2T2l7q4SkqQkEzWm0OQ0auCowFGhYfOG4yd8KROjqmRQVMmiZJJkDrqKrLgeKxMzZImAecFZZqK3LEWTL0RFbrWf/NjVXXR2pvrCprrRe0y1/ys0kBJOUnhE5oEoVO2WustMO4kN5ixxZpaZEcgw+W+WPAiRZMLLhBs1+tPWbZpRSnlelKjMKzIf98B0j6NGnho5kiZQRX0jUVmggoEaOcql0GSOGo3UwMlGVVtglmPUfZmK6kZU9lipvTRK9K9bc59fJfp0/QUIhqBmoTJPOJ4KYafD13uvX+nx0+YAx3/u/MtRE6GimehVuZwoLC6YqCk+5bpXoPcq959Wuv20/fDOh8Kj+i3emjDla3XmUJSV+UNYCwFjuizHvmaNHXQ/7DcTAkpLUMa86hfEVMRR1YVKZ6OObZ08KVnvJrpsps6bCtnOWL3ft7POHQtViV4UVT0v4AOaA5VozBQGmsZMCLMamB0EqChLyBYS4QkVvhw3omOnNsAnPBE4yj2UH4T9Geq622nhxh/1O11i711JVUXAJJJ8/J+Itd7rf/JYvXnbpt9jz/CU42QTxwmwyU2SlKGYheiVXfpKsBhfOs7K7YcCRPSqhC5RMY0YXHboN2938I/c6Rvh6xnhs9x7Rcy5U5KyvE9WzqdUoZcpMVHu7M1/f/b52S1Yv+Pkdv8T2/WB7mu81lVtWHPsxImwlUqUlD3pMNOiqHVw1oUZXgQBKivQmYlepXalQUjKPmZZ7UvPRUX5T5mW6uUluzlS50J3BILntFn/HomkMuVkapQVoKisiJcIGoxAYdJPUeK/CPjMMSKAbVmxUXVjn48c0axFc2VphrK5RjRSg8OuLY6/Ovgd990e4e8d4r3Od/3Rv4+n0bS9J/b94v/L1ohtfsd9t0VuXeT0Y/gfYbwiCCrUI3DqsNXCQsA2T4g+t4k9Y3z5luixn0SDwhsyT4U/rvy53nfDtogdvie3ekX7bjrq6Bu9baPPhiTDY0UOIkQSFBQERTXPeRz0dAl09o708jnpszXa3/2I55ZfncrUtftmyveCoFA8fHmOSqLCSpLIvi+OgESJqCDJy8pXaWyi+RgRIiqz4xKh5yL/3Go/J8nNT3B0VXT0Tz/rMWde5aXJ2GR3H89pS/4O/YeKyuCRU5U1cMyKUuvghCAVNAVG1YbVw5dGQBQoZ7I0bZmOGj29U8deithBqYEaoy5G/bJjvXekj/6YPuDPPb4ntnof9V3jv+H0rd8XuS/betLf56TP9t+2e0R47Pl9zyrP1Q/4hxJV5gDNc3aM6DN2Ma/4jPwOBgVfpZkky6m7j+71CPb0PbnNI9rH/Tcvn/PbXCLdfnL7Kf72dRhMCZyiPhOpnERTFzov2nrKz+eMt2uUq88ZX98YP+8TfuUaVuvRd9SR8LiDB86FhsSGh8YHHrwSHBgbGnI9JPB6SFBcut+gOMVG+cay36chEBp0OST4YmDIxcCQyyFBV0IDY8MOxYUGxh0+dDUo8Hzw4T8913usHvjFI+etRO9NXdxyhs2f0VvkLaL3WzrIXr/cL+zQ2aDDlw6HXzsUFBu8PzY8MD4k8HpwUFxgcFxwcGxooIJYSFBcMKtvz2lr2CShVcaqbROap7mpHg7579DBs+Hhlzp3/qR1qx5UkT8kngo7ju50DXHxOePrEe3lHKX3+22He4T3Ip/lmwOdncLc9Cc8PaM99Kf07tHunlFeK31W/x3/j8LxMEgVVRpST9ySFEnfPJmuvH3dnwIh0asgqkfNiSbKeR3y8Tnm5x7lpT/jufGUw+Y/nD3/8Pll64bbj24LkjomVpU3PBUfksTl3iu8T3l5/ObhetrV6w8v79+83SI9yjV9o9eA0UeOxu4/8E9Q0KXQ0KvBwVcOH74WHBwbEnwtJCQu3W9InGKjfK+y36chcDjkv5CQ/wJDlW9ISNzh4GthgfFhgfHhwdeDgy4Fhfzlud7j50FfPHbdKrt5yI6FTaL3W/3ZNO+f/cOD/j0Ucv5weGzw4WuHD8UePqTUt6CQuCC1dh0OjgsLijsczOrbc9saQgQur6ptU2meBw9eDgm5GhYWezj08sFDfx85duG9rkM7duitjCyJZKJGv8O++mN63z98XU67ef7l6xCp9zi9bXnAaqej+p8Prvf63c/3b1+HKAe30/qtf/qv3bn+1JUYZbUeL8qcKkYqnK7sZGZEn3Ndm0WWhwkPVW8jGij3x7W/Vvn+vC1mh0e0j9tpD48/vVwj3Fe5rDYIRqXfVZXFEqVpMmegnMNuB88jHp5RXp7Rytc90mPToS0l6pYdO/lbE2ce3wkC5XlV86D+oj6HGbKPQGbVjXLSn0AlAJnQsyf+8LWfk+KxVXLTW30m1tkJlm/mkWOKk9199FN++Df0b2V5gESNgsITsG//iepGVvRdAGP2YWcus0RA0crK5tPMR4yyb936HXXyQ+Ip9/u139Zs/9k90sPjlKdHtI/Pb9tdI7x+9Fly8m7MUv8VnlFebidcfc54e57y0R/1XOq2IpE+FkDvI6tbvxWih9M+0k/G5hztvVxI+VaiT59dlfOVJVC8onkX3HZ5OOx02n3iV+/DfrtO7VnqsuLC9UsGk0L06n4H5chvkcocFa/ej12jX+sX5LfreIB/+Ha3ffr1fr9Ua1xz/KRJsN42wy/O6jDDCyGQxWSsZQ00nl7pZz892d1HIXprL6LPY0Sf4u7hOXXuuSPRsDPWvAgV1oZZzsI1T8aqoL0Q8szxUxFQJ2NHjf6qTdv2hFKjaFA23FDOZaerS4DL1tBtOyMCPAK9fvZZG33t9AP6YPux7au9V22P8N8Vucs/ZMd6j80Rv0cphCOJyp1FhMpwLRmZPAAAIABJREFU0JaZ681LihXGYaqb9HT98k8qksr6KnWzg8hTISgyZJ3rhg1em523u124ccnAcxC6KtDDEihJnVsVbyfd9d7ls951g4O30+6Q3Q+5h2+1aDDB/htloKDuXNH+vnwSC7lPtYRUCkOCVxuAeeenesOU/eRkdy/ZtTASvde0mReOwOmV5vV/msk94H8NcRTyupRz2VePKR7dtm1biYjqJill+6RBMpz4I8rRy2mt81rPXZ4XE86n0VQTTTPS1BP/HF/nsXad21oXX7dz/10SiGzexkyp+ewsoPXMvzmX5pcLCUksv108ol2gau4wFQaRCA+LFEQq8Moyed5ATbyiNVNoRRYluEhMWe5KlP0Raunyqm6GAy88Feo2qsOI/uXq01N9MaJ/+sxwirsHI/qn1hxrvkCiB3oglCYbUyQqG0WDSVJ21ItUMCoEIvCUSyEpnLJhyshRk6hsoaJGgTcKPNCPcmxiZn43U5M185C9sPMt0WfG1CwCKVyvbIJVzzYwESOnlJZyeBlReN18ahQhyvkH6uyJDPdSSVTkCSdShfSbtW7KiD579SfbrhjRM6LPdmXJNYdI9JIk4ZXReDeRIPGwVU3Zg6mQg0L3aWKqusBV5iRlJkWd9lOuMwI5MiPX51pOnhdRASJ6hfoVoZ7njJaDQhQSF9R9UnBcpbYY1PMrZFHglFGXyIMXmDuv92bdTBePmNU4z8OTvX8KAozoGdE/pWq8RmskepWwqSL7gapAvVyaUspxHEiE2q3IgsTDPVKCJHIcp+zBBF/pr6vDfOUFsb6AEb3K9cr5KRKRRUFQD7cBVTuOAOAYevURuF4SefX6NrPuWJKkli1bMqLHapozBkb0jOhzpiblZChPiN5yNq1yCpZygLl67yuSBqGKvA+n12RF28qAgFOEevNXk0aw01i8HmOBI3rlghDNtJWil7dsdlaPoc+gSntSPLJycDHMqDRuiHfGKqWKGL2eIioYsTKiZ0Sf92ryE6K33FHBmzjka9jvSnj1jA51S5RyxjlvFvGBZ2TRQvGWQQDmEmk/q64BXeWSAUksH07GWgZZSsGA2QItkdQjLOERLg9RDxpFl8rRdZb+AA3KW1npGJo3bcEk+hyugIzoGdHncJXKgeCeED1qXVTSkAQRRHuFE/Bscs2lRoq99isTWOWhTZP2vdb+tZjzMdEjvSPhZ40g4K2WS5YuzfeKWLpdSSKNGzeZNGmSpBxGl678Mpdl1jEy28wIMKJnRJ+5VuS6jSimu1ROluXRo0e3a9cOpujS/1oSpyXsZ5hV5097bwnrtf3nV6J/GqAWutYAqlpldg8ugOUpVc6uEwR1UoXSZs1a2Nvba2ndPN+iCZUZXwwBRvSM6F+sxljRtXJbiOUzatSo1q1bp6d4y1YPZSGf5gPkkplKwEZ1+MyXmqBy3Zi/iR72EGb4Ray1YMIIDF9pDbCFSibKlmiwb9Cw8cSJE0XlYHDzR2u22LH/F0GAET0j+hepL9ZzCwyP4X/55Zft2rXTLqp5mhkuijV3CVoGwbDSq3PAiebl6zTmb6IH+s5A9LC4FXpfhFZbLhnMvKicKI1fmdC3mzSbPHkySPEIEAbFDC+DACN6RvQvU2+s6Ee5cFQUR44c2aZNm6eRe5b2CtcjX6QnGq01mK2YgRcJGnksf07Gagga6F4LtBmH9CWRARxYiQm+JCJLRFlC1aJVS3t7e3QJGKnqHbNuB18xQ3YRYETPiD67dcXq7ixqG+V/zJgxHTt2fFqUWj5B0s+S6NO7VDoC8wdeWJ5e13++J3oALjPKGYGG5ye2ZsAVbZ3aW6BcL0hivTfrjxs3DvXyGcZ6r6uo8ne8KvJqZ2xRgFrKTP1nZ92ws25yo4LD8grt9Nvo0aNbtmz5tLgtlRQlePOFhfiMHjO5tLyBF5an1/Wfb4kecc2InIVHLCciKNtlLVdQPykei3ciK2umlFun1C2ysEu2Zcvm06dPhxkbCF5bMzJGyJ6zgwAjeibRZ6ee5KIbWVYuFh09enT79u0zM8PTEmLm7fT0baETczBmv1rbpwWXW/b5n+gzCumZiB4YXwu6xiwr9wo+8WIyGSiVx4wZvWbNGuUGActirAzrLHOrdApQPNkj+pRcP72S068z+S2mx5fRuBWJu74U3VdTRz11ciMuTuotV9a/AsXZiR1qlmsVXauGhRUWS5cunTp16gsRvTm1FubR0AkjequVpKx+IHitDI7rZMwGIBoh40IaENXhPCOrpTHrgCFhgiBA5cMEZ+06v9tqiB7OksOmpbYTs+pGQ/Qu1NmaXyfl7hHi4mQm+qMr6NWVWRO96tKqiSmERI+Eq2xtsaxxhsYIjzBTqp0Y0zbSbDYWJAdwj2FCY0LdbA62LUIIplNLR5CpDDFixnMwAU8LCuIihOTbyVhLLUHUtJUAQVcuhOR5LQraRTUgvEOdy+BM6yUHzdpKgMFiFtCm4BjyNdErWhcr9jqFkOihrWGFh82JUNuRnbHyQ2PROsZXTzOg48xKV9DYaD1m4F/tq5c2C4IAUfM8n6GxY9peOvCX8AiR5kuiBxLXFhICChAj44OB48x3j5hMJkAKFDIZGB/fvgSa2feiTbZy+Zi6gyP73vOfSw3RZ1iJ/BSJXhG3rfRVdDKWy8GzVN0QZzfJHPsT1Y2VEkNcnJI9CuN59Fp1KJKv1hLaBVb1DPyYmcHRZQaPlFKe541GIzhAHjAajUgRWr+vYsZEZghZm68Mbf9Vosu+33xM9JmhJISgpXL+vHp8KNQhZHMsZlH9IFKiKBoMBnCGbvCt9QxY6s+uuNZLQC6FnD2iN98wpc5bWo9YFf27hehN7muMW806+kcBXyg6eic34uyiEr0DcTETvVUTUwiJHqs9Vj9JUi4FQqJEe2wXsPgN2iYIeZkdoy80mEwmHNajJZIDpeqxlPjilQ1I6JA2kBpBSYDJQM595dheIACMNJ+pboDQAUFJkkRRRJULdN3wiLUEIMFuAA2gBMxOjXkBULPhFC46wPSDD6wK2QggvznJa0Tv7ECdHUQ3h+cSvVUpHgIvhESP1TfD2mVosIIgaJU5OI+FvsDwjPaipXIgX2AJrRds9Tkr2GGwkEh8zKCSykBNGbKW44+QjHypukEhHSGD+gEYoaXBYNCWLo7g4FYBnO1B+7S0tBxH+dkBQlIzyzjP9pXP3r4Q0avitvUY1rKcxkFyVYje5LcIVt1kKdFbLxkYcuEkepTfkQpB/jUYDFC3CSEovaFuh1KanJyMzfYZrUDbPQADoHiHbTxnKR4Tg+QDMWLiMcvoAL1Y25BfiT41NfWnn36SJGnnzp2///47pfTx48dLly7dtGkTjp4EQYiIiFi3bl1oaCh0py1atDh58iRgiqWOE+WSJHEcV69evevXr1sbd4hdFEUPD49Lly799ddffn5+WOOtHftrCF/VxL/IhilF4rb2l7g4cHog+iU0bgUSPXV2UZdXOlCXLdZOA3V2SHHXF8I7Y7UyO6X06tWrfn5+oiiuW7cuMTFRkqQ///xz9erVPj4+QItA1r6+vmvWrLl8+TL2AVlWZmzdSOUGg8HZ2XnMmDEgUWV2kGU4L2cJCU5ISHBwcKCUuri4xMbGQlDQxjH2lwv/JXzlV6K/f/++ra0tz/NDhgzR6/WU0tjY2CJFipQoUeLs2bO4ZqtPnz5FihSZOXMmQGNvbw+IQ0mIoojDAtDWGY3G8ePHJyYmvgSUL+elTZs2ISEh3t7effv2fbkQ8ocv9VaA7BC95KZXFehWZnknJXzi4iC4reH8FtFjS2jsisSALyT9auroxog+1yoVtERZlvfu3fvuu+9SSqtXr/7vv/9SSrdu3VqsWLEaNWpgYkwmU9WqVYsVK7Zz587MM67oDAxaQodY9u/f7+joiEvscAydgwIWRAQJiImJadCgAaW0VatWx44dw+gyJyBDyq3xmF+J/t69eyVKlCCEDB482NXVlRBy69YtnU43ZMiQ7777DkZ2t27dqlChQs+ePb/99lvA7vbt26CiSUtLu3HjBiHk9OnTERERKSkp0MdKknTz5k0YQiYlJd25c4fn+aioqOPHj0PncfPmzbCwsPj4eOyTY2NjQWqAgoyNjRVFUZblx48f379/n+O48PDw06dPg6YoISEhMDDw5s2bgLssy126dAkMDNTr9R999JE1CjivhAnXvyinTVi2p1n2mcCqm39PHPWZYJ+k95Tc9MTJUeF6q34dt1A3F+rsYHL+iVcmY1fQy0sf7RhF9Kupgxt1ckH1jnWToeYxTe/hOXXGxaMRVJJlKin336h34ChXXqjnc6hX2msO0sorhfpK6cAmAK11z549QPR2dnYXLlyglHp7e9epU6dt27YHDhwAAvX19X3//ferVau2a9cukMySkpKioqIOHToEAhzM6N6/f//Ro0fQQmVZfqh+KKVJSUmPHj2CoOLj441GY0JCQlBQUEJCAqThzJkzwMjQoo1G461bt6Bdy7L84MGDe/fuwaRCfHy8yWSKjY0NDQ29desWLOw5ffr08ePHOY6DwUdMTMybb74pSVL79u1DQ0MRLFQ55GAHg4E/zZBfiT4xMbFUqVJpaWkjRoxwc3MjhMTHx+t0ur1797711ltJSUmU0rVr106cOHHAgAEzZsyAalG5cuVTp05xHLd169ZGjRr17t27Z8+eDRo0aNiw4aNHj0D/U6xYsYSEBEmS1qxZ06VLl9atW/ft27d69eoDBw4MCAho1apVr169ihcvHhISAv1B48aNDx06BL10UlKSTqeDAcGsWbN69+7dvn37jz/+uGrVqmPGjPH29u7QoUPfvn1tbW0jIyOhAnXq1CkoKMjPz2/IkCG5WfBPqxDWsn8K0Uuicjq0RMWLMSf8p0xL8fCW9e7Uxdnq9Oq4hW7ZRJ0dJPdfjN4LadhiemV5yp5xjOitVQHSh4vaarTeu3dvjx49KKUVK1a8evWqIAg7d+6sV6/epk2bhgwZAs4GDBig1+vt7Oz27NnD87zBYKhevfr7778/aNCgChUqjB8/HpphQEBA5cqV7927J4ripUuXSpUqFRwcTCldunTpwIEDQWNeo0aNMWPGtG3btmvXrmXLlj106NCgQYN69Ojx5ptvNmvWDNS5Bw8erFevnqR+wPuIESNAZVS2bNkxY8Y0b968d+/etra2oaGhgwYNeu+99xo2bPjee+9BX3L69Om33nqLUtqmTZuTJ09q1//kfkvPr0TPcRzP84QQ9Zp25X6AK1eu2NjYxMfHN2/e/Pjx44SQGjVqnDx5cujQoVOmTAHoK1SoEBMTI4rijh07bGxsIiIioCdv167d6tWrCSGPHz8uUaLEf//9B+Vavnz58+fPU0rv3r1bokSJ/v37Qy1ZtWpVp06doLLWrl173759oHB8/PgxpIFSOnfu3AoVKsTFxUmSdPHixbJly44aNYoQkpqaumDBgv79+0OlNJlMUKtSU1Ox0hdAw1OInqoX+kpUPB8T6W0/6aGzG69sTYLjB6z26+REXVyIgwN1c5E9Nhi8fqThy+i11Y93fakQ/ZMjEFT1EQ4srJaqFPdCJ9Ej00mSZDKZoHkaDAZCiMFggJbl7e1dq1athw8fVqlS5datW9evX7ezs3v48GG1atV+/fVXSmlqaurjx48ppSaT6fbt2zVr1jx16hS0nUmTJnXu3DkxMbFNmzY//vgjWC5btgz7jEqVKg0dOhT8Lly4sEyZMiCucRzXsGFDb29vSmlQUBDoXkBgX7Ro0YABAyilRqOxTJkyY8aMgWDHjx9fvnz5I0eOUEofPHhQq1at/fv3w1JvmPVNTU3F6V/wol0UBDbW/s2vRI+4AGSEkKtXrxYrVuzGjRubN28eNGhQZGRk8+bNBUEYOHDg/PnzQXzG8vDy8mrSpAl2ElOnTv3mm29gcKfT6e7evSsIwtq1a7t16wYaG57na9asuWPHDiD0wMDA2rVrA3ZvvfXWgQMHoMNITEwsVqzYzZs3jUbjjz/+OHz4cKgilNKSJUuGhYXBcNLf379hw4Y4kQC1PMPqK8xgQTCAIkLl9MyqG5lQkQrnoiN8Jk1+7OGlSPRurrgixRoGpSNRF/aIzo5pTmvSvBfRyJ/otZ/ubRst6ddQR726YUqZj8V19NTZWru3YMNUIVTdiKKoXQ6H1I8GDw+PN998k1I6ZMgQR0fHn3/+efTo0ZTSN954Y/v27dAubty44ezsvGDBgrlz59apU0ev10NLT0pK6tSpU5MmTd555x3QwxgMhpUrV3788cfgoFq1aqDop5T++uuvFSpUwDX1vXv3/umnnyile/furVWrFlLkqlWrBg0aBPHa2toCs0uS5OHh8fbbb2NLb9WqlYuLC+ZC267BDK+g1eda68Zc5LN19NBhIpowGavT6eLi4pKTk6tUqTJw4MDFixdTSvv06QOTsaIoVqxYMTo6mhCyffv2Vq1aATvLsjxjxgw4l1gQBJ1Od+3aNUrp8uXLoVyhojRo0GDfvn0Q4/HjxytVqsTzvMlkatiw4a+//gq1586dOzqd7sGDB5TS2bNnf/7551CchJCKFStGRUVBue7fv79Ro0ZgBo8wHszlss+1SqYca/MUiV5W1c8SFc+eOg5EL7i4mjZtkFxcrPt1dKJuetHVJcV1rWn7Chq1msb99CBgLO++hjrpJRc30VXZM6Vsm1I2T1n3+9jTw6OQ6eiR4pEHoWWhnsRoNAYEBIDqY9++fe3bt69bt25ERIQgCFWqVNmzZw+l9M8//yxbtuykSZMcHBycnZ0bNmzo7u6Otfq7777T6XQ7duxAiWrZsmXYoqtVq3b48GEQvH799VfoUYAQBg8evHz5ckEQgoKC6tevD63SYDAsW7Zs9OjRoigajUZbW9uzZ88CM2zbtq1p06bIRT169IDFNhzHgXYXhUXUzmOSMLXWNkDy8t86euREMJhMJiDZ69evy7I8aNAg5OshQ4bMnj0bcCxduvTJkydFUfT19W3evDmQrCiK8+bNAwVfYmJikSJFbty4QSldtGjR0KFDsUbWrl07ICAASujw4cNVq1aFMN988829e/eCOHD16tWSJUveuHFDFMVFixZ99dVXWKJvvPFGSEgIeNmxYwdI9FDPIBlQyaxd3q8n/KcRvYKOMuMIRO87eUqSp6KjJy5OoqsL7+ZipV+VxF1kvRuvdzV6bjRsX06PLKGXlz7cO57zWCM5e/Cuet7VTU2AkhL4Wi89iZ5eHlPV8+hFZcJCQQsQK9CTsbBsBtsXkiAypqenZ/Xq1aGNVK5cuUWLFkCsdnZ2O3fulGV5+vTpEydOBCGJ5/l69eo5ODjAZpozZ86UKVPmu+++q169OshtsiwvX7582LBhsByjVq1aIJKbTKagoKB69eqBbkAQhMGDB69cuZJSevjw4Zo1a6KkP3Xq1E8++QTaaalSpWCFBc/z3t7ebdq0AU2swWD48MMPf/nlF2zUYJ+53WF+M7+yhk1+JXpcXIUV5eLFi6B1kSTpwYMH165dg7wNGTJkypQpUEWqVKkSGRlJKUWJHjCdPn36hAkTKKWJiYk6ne7WrVuyLC9btqxfv34YUa1atQ4ePAj9ypEjR6pVqwZhfvbZZ6NGjYJFNbNmzYI0UErnzJkzcuRISJ4gCJUqVYqJiQHe379/f8OGDbUlDdVCWzmsUdivLczMRA83BKhELyhcL1767aTflKn3nF1Njk7U1Vlyc+X1esFNb41fwU0JOc3B0eDmnOz5y33vH+iJVfTOL7d2f2n0Wiu5evJ6d16v5/Wugt4VHFspJZC7x17e7lNmXDhynBYaokeNK9TJzHOzsizv3Lnzf//7HziIVz9AsnZ2dvv27aOUzpw5s2vXrrDBysnJSafTubm5wY6qWrVqOTk5ybL8xRdffPjhh0DuOBlLKa1UqVJwcDD0Ivv3769fvz62joEDB/7888+yLF+9erV48eJnzpyhlP7zzz916tQZOnQotPoKFSrAsg5KqaenZ7t27ZAounbtumHDBuwewD0KptAt5X5Lz69ED+nGPReyLMfHx5csWRJWSgGsMHE6fPhwlOgrVqwIRL9t27YWLVpg2cyfP3/cuHGwE0+n08XHx1NKV61aNXToUAyqcePGILlLkhQaGlqvXj3Qyv3zzz+1atWqU6dOw4YNf/jhhzJlyty9e5cQMnfuXND7w/DNzs4uPDwcKtOePXtAdQNLtTAvWNUKmiELoleXDar5FERFf3Phj5h148aHLPjh4JSpodOnB06bfmi6Fb+hs7/dP2VSyJxZB+ZM3DPv87h9i+VLm/cs/3D/7LGB02Yemj7TEvtUa6fk0PTpu2fP2jJj1r/HIqgkKVUCJHoATcUJLrFLf9h5/q4jSHxaHSzqbUAG8vX1bdTo/+1dB1gVR9f2eb7EGOMfk6hRE8VuUPn0U6ICSkRFE2ONiooJFrDQr733EmIv+aLR35hoLEiRiDUo2CKI0Ygi0sQCWFB6ufdu/x95k/NPrkgSCyzcvY8Pzs7OzpzznjPvnJ2dnW2JMQB9BLz83nvvBQUF8Tyfnp5uaWlZv3795s2bOzk5de3adfv27ZIkDR8+HA9dBUHIy8tr167dl19+KQiCn58f8nmet7CwQH80Go1Hjx5t2bIlKFhRlP79+3/55ZfAd9asWdWrV2/VqlWnTp1cXV2dnJwURSkqKnrjjTd+/fVXhHf79u1r27YtJJQkqVevXt9++y16PTLZm3VWkbI0IdpV79QN5MOoiDQNhvAVrL0BZLSAiR5q0zZnmAp88i8ulCQJobcsyzStxu5eDW/DXwgAt0Bho9GYlJSEJbp0hwGnxFiCNDk3NUe6oDaar6QJH4gHxcvSLV58W8VbIDxZLZARJDE5/vqp0NCwPXtP79v3S0Dg6X37nu3fyb17T/n7nw38vYYzAQHhu3f/EhR0yt//9L59ZwICzgYGnvL3P+O/9/S+vWcD94Xv23n2p52J5w9xj2LCQ76JOrAnfNcPp/z3FJ99XPLsvqDT/oFnAwPPBARApJN7954LDg7fvftMQMCZgICTe/eiucj9+yP27EEr/0j4iIDAo4GByXFxYvH3Emj7l8pg9ydN/kcOomwiRChL3QfkyHZ8mgNBr0FvwpK29PR0nIU76fV6NoRCt8JeN2iF3VwBS+/REPVZiIHD+/fvJyYmolESj3YhRuTOshD6MhoiIamnU3Bp0sf/QOVl/U+Kq/dhLDAC6EhzxT8yPNZIQRMaPFGSHQzI9myC53myLoyNaqk2SrD57I0nu8QTfkDegD0VYDrUw3EcNYdiaJT8gM5SPivAy/KC8q4XC0xJ92cQh3oUzIRDGu9NDou7oiQUfzxSX5SnyJyi8LKsVxSDLOtlyagogiQaH7/cJYjFf/9/0xVWNtY07Gao5ABs4dLTkBDeS2m2/tIvr3BnyeFZ4oMWer2eECC9KAcJDBIl4oyacYqGTOraVA9qZg/hfjShinpITiqJBExjNBrJadmuDRLHtVSAJRCO46hm0vGlJiCweiN62nqM5rzI+2kDAwIIpwjZEv2AClOCKiQb0ymTjgdT0ViCAYYKwwPQOru9GtENeRvrH2xtVAB+jJpJPGqokiXY+xh0++fpA4QhAivWf4Db7+7x+A4D7+gKisKD6x//LSZ9UTA85npBlEUJ64XQdeFRGL9hF7bbowy1+wxmIjZBVezhM9Sm/kuoC9PdM3k+zdoTWdMptkfAmoIgsDfipDhbEuvfUZ6sRpezXAEeIPDxPVHEIqgQ/sleQi3SB47gBtQQDPqkN9KFLzsBydVL9CamMhgMrKnAC8ih+XoTdmZDrRLRFEUR93o4i9pY/qUxBgVMxgO86ETdm/yDTEuncPNoIgPchdyaVuPCsUwKV75DE5bH7hHPoCasRt5CHRJ9kvobbPG4leJQnecMiiKJgoHnCh/TPf2TeUV+HMvjn1HPsb2aPISVE3slPs8QxXoO68xsK5UpDX1Zrcl8hLCJe0B9KsaGUzhFgwH6L0qa+AZVQvVQc4jJyIj4OBSLOcf97glURpIkg8GAQ/wlVyHVUD+1gvyCggISgG3iJaXRlnqJnoyEWbDc4h+xMIVvFGsDRPqotwlHlw4i2dXEMHR3ief7IIsSiZg4ncQwaZF1CLYw5n9QODExkVpkH1WZVFXJDimMQt/+p39pWCVYMPeKQ/ZO+ffe9QeJ//G5K96gz1cUQZH52Ku/KYrEc4Y7t27zRuHx1+P/eMCAN+yof8KaFEtS05jA/Ucq0LVUOeVUygTY8NGjR6Bmiuhp9pztKejvRJSwNb1JTpsAkw/QjQLlsLXhZVowA/opEKZ5drYwEUthYSFMw44u7DiEYJE6Pp7DEemTETMzM2m/HcosgwSEVy/RsxAIgtC5c+cbN27AEtHR0aNHj27QoEHz5s3d3Nyw+F1RlPT09MmTJ/ft29fR0RElWRdhKyQrYsBITk7W6XQODg5jx46lYqgBh5GRkR07dvz3v/9tY2Nja2t7+/ZtsInBYPD29gaUBoPh0qVL/fr1Q52CIPzwww82NjZ169Zt27bt1q1b4dmyLHt5ebVr165jx46Ojo5fffUVkbuPj4+/vz+9F06SVMoEDcnPSXBE69evX2/dujXebEQ/DwoKcnBw+O677+hu6TGSxfPvsig9fv75xzSOJBqLCnPfqF4V4XzD9y1uJKU8XunPP95jg2IOlndIbDI3yx1/32QUZLCXlOK3bLEKmjYYDNbW1nfu3AGGsbGxAwYMaNiwoZWVlbu7e25uLljy+PHjNjY2FhYWbdq00el0+fn5hDklqJNSgjBBDqzzzTffODs7d+vWLTw8HDnslICiKCNHjmzXrp2NjU3nzp2nTZtGprx+/frXX39No9GYMWOweY4kSWlpaWPGjGnUqFHTpk1dXFwSExMhVUREhIODg42NjZWV1ahRo65evQoXvXPnTseOHTGoPCktif3CE5BKvUTv1UbRAAAgAElEQVQP+TDpsW/fPrwDLQhCSkrKO++8s3LlykePHj148MDHx6dVq1Y5OTmyLF+7dm3JkiXz5s3Dyw4UOD8NOzLnmTNn1q5d6+Pj065dOxMfQhl/f/8uXbrExsZevHgxOjoa+1csWbLk2LFj48ePj4uLGz9+fFZW1uHDh7F6UpKk9evXN23aNCwsTK/XX7lypU2bNrTWs3PnzitXrkxJSTlx4kTDhg2x9laSpPj4eEtLS5LqyYDxaYpUxHxSE10OnQETF+wz879Mg8QFQYiMjKxbt27Dhg0pcOvfv3+jRo3mzJnzJ3zkx2ROdC89jtsfT9lnPsp45+2aRr1BEsTr1+KNeg5z9NJjqn/8I4Hz8/N/z1IU9Fg6hQHmL2VmC1BVGEXYqthTlSn93//+F28pKooSExNTr1691atXFxQU3LhxY8KECa1atQLCsbGxv/zyS1pa2tWrV9u2bYtXmYAPrV4D4Hfv3t24cSPtKkNGAc6KoixZsmTLli2NGjXCtjYmYBoMhnbt2u3YsSMmJiY6OvrBgweKoly7dk2n0124cGHu3Lnbtm3DLsdWVlbYPjMzM7N+/fpTpkzJycm5e/fu4sWL3333XUScYWFh9erVS0lJSUpKmjJlSu3atSlWGDZsGO2+YCLDyztUO9FDc4ztPXr0OHDgAHKcnZ2x8p0YuVOnTsuWLaNZnV9//bV27drUl56GIA0kcB2e5w8cONChQwd4CVWO2CowMPDjjz9m4yxctXnz5po1a37xxRcZGRmKohw+fBjvX+Tk5NSsWRMvxKLCq1ev1qhRIzk5WVEUe3v7HTt2IH/27NmDBg2CkLIs29raYrtUEzGepkWFzjd55vFsupCloqKiLCwsnJ2d8dLD/fv3mzVrNmrUKPiG0WgMDw/v2bNnR+tOk3VTMh9mYRY+ODDIzrazY8/uP4UEV331XwjzJ+um3L55R5GVI4eO9u/fv0OHDn369Dl79iza2r59+65duzw8PNq0aePh4YHZ22e2F0AgLZ4NhAp0lSRJdnZ2p0+fRm8aPHgw3lhEhxJFsW3btt988w3b1xRFWbRo0ciRI6EmzYqQ/8THx3/44Yc4i3pMAAG8bdq0wftWdDdJpGFpaYn3XSl4l2X51q1b3bt3b9CgAcjHYDDY2Nhg26tZs2b16dOHhJQkaejQoRMnTuR5/tixY9hWQRTF3NzcV155JS4uDgL89NNPffr0IflNhHxJh2havRE9GUyv11erVg3byIiiWK9ePexghyCL47i1a9c6ODhgbFcUJTo6+r333iMbEHwmj7moa6GLKooSFBT0n//8h2xPNRiNRmx+1KhRo7Zt265evRr3Cv7+/q6urj179pw3b960adMKCgoOHjyIFz2OHz9ep04dWJTs2rhx4507d8qy/NFHH23btk2WZb1e36VLFzbk1Ol07CGBQFpU0ASBT2hDNfJCJJBJiFGwX7rWuCo6Orp+/fphYWHY33/9+vUzZ84cM2bMkiVL8FK7paXl2bNnMzOzfXx0w4aNUBTl3LlzdevWPXfuXGpq6meffVajRg3cWDRv3vLq1WuSpISHn7xy5cqjR48OHTr07rvvZmZmSpLk7e3dsGHDyMjIu3fvYvKNBC7dXtCR/OrJBMAxgYidiS69/tJRUsnZnJycGjVqFBYWgm1r1ar1888/QzbAOHfuXOzwqihKVlZWUFDQunXrrKysiIip59JtVnx8vLW1NcAhEqdimKuRZblt27bYXfJJKJo1a9akSZMWLVoMHDgQ+84+ePDA29vbx8fns88+++KLL/COVYcOHbAHg62t7ddff031yLL8448/tmjRQpIkeqcSm6a9+eabuMUURTE7O7tq1arUF+jyl5oADuoleiLc5OTk2rVr5+fnw5Cvv/46xVbI2bRpE6Zc0HNOnDiBb9NQr6BljljaQVM6Jj0qODi4Y8eO8DZcS4/yk5OTo6KiMjIyIiIi3n///a1btxqNRuydPXbs2IKCguTkZNj4gw8+4Dhuz5492OYUtWGlbe/evVetWqUoykcfffT222+3adPm7bff/vTTT4uKiiAJz/MrVqwYNWoUSf5SPaBsKmdXHJHPUdPYyJBusYn78MSMDEQJupASQFgQhLNnzzZv3lyv13/wwQfp6emtW7e+cePG2LFjFy9eLMvyyJEjlyxZwnFcfn5hWtrd6tVrFBUZJk2aNHfuXFQVHR396quvQoD332+YmPj43kuSlLi4uODgYH9//1atWp05c0aW5XHjxs2bNw8ibdu2bdiwYfCoUoREEzThgFZQnq4loxMaLCOw30El3StiIi4urk6dOqBjQRCqVKly7do1VpENGzbY2tpiuiM5OdnDw6Nv3752dnZXrlyhYA4Un5ycvG7duvXr18+aNat+/frr169fs2YNthWjxWyAF89RW7VqdezYMYzltKQCsJ86dSo1NTUhIWHixIkWFhaSJGVlZd2+fTslJWXp0qUGgwELJUD0PM83bdo0KCgIYsOOx48ff+uttxRFiYiIePXVVy0tLZs2bVq1atXDhw8TlRUWFr722mv37t37S1dhAXnONHU6lb4wBQMYjcZbt25Vq1YN2sqy3KRJE+xgR4vZV65c+fHHH6OAJEkXLlyoX78+PSJjucPKysrCwqJWrVr3798n9Ml7Dhw40KpVK9SDyyVJonogD24gevfujUNZlvEpWnTOgwcPNm3aVJKkiIiImjVr4loYVRRFS0vLXbt2cRzXu3fvTZs2ZWRkhIaGvvPOO7GxsaTspk2bRox4HGzSS+HPaWaVXE5DJszBcdyNGzeioqJSUlIIScCFUTknJ4dKshZ8Uh3y419++aVRo0aKosydO9fJyQlkMX78eGxK/uGHH7Zv397Ozs7evluPHo729t3y8gqcnIZv3/5DYWGhJEkcx7322mtYXtW8efNLly4piuLp6Wlraztr1qyVK1c2btwYu1K7ubmtXbsWTBQUFMR+IIxiiCflpByj0RgXF3fu3DnMBVM+tmqJioqKjo5++PAh3BLakYvSIXtVxUrHxcXVqlULMouiiC3/sFQRmbNmzXJycoIzAGRJklavXt23b19Yh+I2TIIvWrRo1KhRdevWnT179rRp02gPekQAqAG4tWrV6uDBg2zHxwCAFW4YSnmer1WrFrZLURQlMzMzNjYWVfE836lTJ2yKaWtrCx8gp8VuiUajEbf1Dx8+TElJ+fzzz2l9B/y8Ro0aaWlppbv0izUodRCVEj3ZQxCE119/Hd/wk2XZzc2NtgxD3GdtbY2tiHBJVFRUvXr1TJZX0oNN+Aod0sifn58fEhJia2tLfZUchYZfnFq7di0+iAN70EIrnufDwsKwOWV2dnadOnUOHToElDmOi4uLq1atGvbSsba2xtduFUVZtmxZjx496H2K8ePHz58/H3VWgl5NLovgFL5+/fp1GxubGjVqdOjQoXbt2nZ2dmBVPFYdOHBggwYNqlSpsmjRIjJT6R0Do8j58+fr168viuL169dfeeWVLVu2GI3GiRMnIpAfMmTIhg0bIA/PP94cUhTlSZOmTJ06HZkXL178n//5H7x70bJly9jY2MLCwurVqxcWFmLRpKWlZUhIiCRJHh4e2KRQFMXdu3fj2wOQsBSTYQYmMDCwSZMmWIj12muvjRgxIjs7G2tA9+3bV61atYYNG7733nuvvPLKtGnTUBsbLhAgBGyFS+Cbz3jcKknSiBEjJk6cSIM9x3FYooYcsru/vz82LuY4jsYAxPU8zycmJtIcPZgdF7IvZ8iy3KZNG3rUJ0kSLdMkDHHL9eabb0ZHR1OkRTLgi1G7d++WZXnhwoWffPIJmAFEMXDgwGnTpimKEhYW1rRpU9guMzPzrbfeOnv2LETNyMioWbNmWX6Ymg0R1Ev0MLaiKN26dTty5AiEvnfvXoMGDRYvXnznzh3c2VlbW6Ori6IYHBy8dOnSmjVrBgQEREREsPObsAqZjfokXpsKDAycPn16o0aNgoKCzp8/j+Hd2to6Li4O36U6dOhQUlLSnj173n33XUy1U5RKjnLw4EEElbIsY6vV0NDQ7OzsqKgoS0tLWvlnb2+P7bPxUbRatWrhi1eKotja2oaHh5PiJC01URETpA4+xPP222/jcXpeXl5RUdG4cePq1q2blZWFe+pVq1aFh4d369aNFinR0Fui7rCjLMunTp2ivcXpTRZXV9f58+crinLixIm6deseP368sFB/6dLlnTt3KYoSGRmJbU1v3brVr1+/N99802jUK4rUuLFFQsJ1vb7wvffq7dq1Kzs7e9GiRdWqVcP3Pz08PLAoFs91evfuzXb4EoVEZkRERJUqVbZt2wZAHj161KFDh08++QRMkZGRcf/+fYAQHh5etWpVIgjyVUqU0or6T3Xq1ImWOSYmJtapU8fPzy89PT05OfmLL77o0qULHsht3br1+PHjV65cOXr0qJWV1Zw5c2hSy2QiKzExEbtIkquwwZksy5GRkXv27GnYsOGCBQv27dsHit+0aRN84/r16xs3bowp/g0dOtTS0pIuJ9dFZ7e2tg4ODhZFMSsrq2nTpu7u7qmpqQ8ePJgxY8b777+Pj5IePXoUJAByX7hwYd++ffHc+MiRI4gR2bHqZduLOohKiR7yAd+AgAB8/QvEnZKSotPpPvzwwzfffLN9+/Z0n5uZmenk5DR69OjPP/98+PDhCxYsAIh0r4dDhEWI3dDHUlJSRo8ePWTIEGdn56FDh27cuFEQBI7jXF1dsWRq+/bt3bp169Chg6OjIzZEhQeAiPV6PRKXLl3C58hxo3D06NEhQ4ZYWVn961//mj17Nh7oi6K4evXqkydP4hJBEL7//nuEn4mJic2aNYNIoigi8bL94GXXT30GBp06dWqLFi1oAMMT6WbNms2aNQuSANhevXohPqLLS5ETNV+/fn3cuHHwEJrd/vbbb7HFtCzLx48f79u3b7t27QcMGLR69eO5F0VR8GVqBweHAwcOTJgwobAwXxR5b2/P9PRUjjOcPn3SwcGha9euq1evXrBgweXLlwsKCjZv3nzixAncdV24cGHFihUQwGg0IlGiqBzH2dnZjRs3jhbO6/X6xMTEKlWqYGk27Y+EuPLVV19FcENBGYFWYv0VJVOv12/ZssXT05OmXu/cuePp6fnhhx/Wq1evY8eOCHg5jtuxY0ffvn1bt27do0eP9evXU/cBIIAac25paWmgbLqPpwU5uMvHoy8XF5fBgwc7OTndvn1bUZQff/wR0y9ZWVkuLi5WVlbt27f38vLCRmmSJOGJMYDFEDJz5szIyEi4aHZ29owZM6ytrd95553GjRuD5fFRlPnz56PzyrKcm5v7xRdfZGZmKooyfPjw7du3l+IkL8OIaE7VD2PJsyVJsrGxwWcEgAWwzsrKatGixfr166kzwMA0YFKHxxajFBGwWKMVsD+qRRPgIKoZt4TgHVzC3lPTKznUNC4E74SEhFhYWGBtJWog/mIlmTJlyu7du4noX4bVy6VOffEPXa5jx44+Pj6EMJT18fHp3LkzIiCccnR0nD7990kVNv9J+WELgtEEWNonC5Y1Go10S04L6cjoxdc+XlMvP15pLz3e9EYSaFaNmkB5NEQxBLX7pITIyc3Nfe211/bt20clUWGbNm0wyMEDY2Jizp8/r9PpLC0tIS0oBn9J1Ke1UlHyW7dufe/ePbgEoiJZlpOSkiwsLPDVVpNeSThTRwOMFMKzk1qsgShaYmGk8QA7GxKqdCHZGnjiWsqk+0WM2Xq9vn379pMmTUIBWn1A5UEd6enpnTp1wh1bWZoJYqiX6Al92PjBgwcYM9l8nuczMzMTEhKgDJwDf8khQLhs76I0lWTHf1RFrRDtUhnyBiIgsig7WlANMPOtW7ewWz1dxY4TKJyQkECyoRjVXJae8WLbYp9hSJLUoEGDNWvW0IgL6yxbtqxFixbUVyVJ6tu379SpU6kb/x0cWGtCBRp06RSpRovwCPA/7EUsT4nf34oixicLUrV/p/cmJSVVqVIF37KgXZg4jvvkk09Gjx4NBXNycj744IOGDRu+8cYbe/fuJUDghCxopEhFTOCrcHgGDsUJwLy8PKw6J4v/YZff309mp90BC1mZnrexdgE+VBsOif1Z9NAQ9XcK1EgAk6qoXVmW8/LyEhIS0C61Ra2ghqysLLxtQ+Kxrb+8NORRL9G/PM21msseAerJzZo1oyk1kKwkSbNnz7ayskLXgmw9evTAJFjZi/qSWrx7926VKlVOnDhhQgd2dnYTJ06kUQTsEBkZ+cYbb+A1ThqKKPGSJNSqrZQIaERfKc2qOqXAXAhqZFkeMmSIo6MjrWIGuXfv3n348OEkuizLvXv3njlzJuiP5lioQAVNvPvuu3ggTzvW5eXl1apVa8uWLdCIYj2O47p37z579mzczlI+BYkVFAFN7LJHQCP6ssfcTFvETAWeMZ47d65q1apYkI45kKCgoNdff/3ChQt4mIm4deDAgTSVXzlQwwftatasiUc16H5z586tVatWXl4eX/yj+cbCwsImTZp89dVXmLyivc4rBxSaFmWJgEb0ZYm2+bZlMsUpiuLKlSvfeOMNV1fXtWvXenh4VK1addWqVXBHRVGmTJkydOjQ+vXrt2rVauDAgVgXQWcrNI4Gg+GLL76oU6fOlClTVq9e/emnn1avXv2XX36BUiNHjhw2bNiSJUsmTZrUokWLli1bYpUhhfM0KVyhQdCEL2MENKIvY8DNtDlaU5GXl0ez8DExMYsXL3Zzc6tbt+7EiRPpqaOiKLt27dq4ceOGDRu+/vrrTZs2RURE0Px1hUaQ1n3+/PPPc+bMcXFxqVq16vfff09LwhMTE1euXOnr6zt16tTNmzdjlgb3NzTOadP0FdoHykV4jejLBXazaxR+RgyFpSPIFATh8uXLtWvXXrNmDVbaoRj95Xm+koWxGNIAwnfffffWW2+dP38eq/0wS8MuyKHxz+T5rdn5kKbwcyCgEf1zgKdd+k8QoFWSBoMBgSoti5ZlOSMj4+HDh+xjRpPZHnjqP2lQjWVpqKNhDJ/KYXe8oVkaUqDEuJ7OagkNgb9EQCP6v4RIK/BiECCmBsfRemcsPkEsj5bYU2yMzw4DL0am8qiFuhwIncYzk1gebx6YQIG3McpDaq3Nio0AeZ1Kt0Co2OhWCukxw0AkS++qUA4oiWJVMBc7z2DCaECFClA9yMEMBvklElS5ST6qgoQogwKUz44fbLsmaXpzir2cLfNkPniZXgQjRqZZJlxCq0LZGgRBwK4epDIJzBaj1w6wnxrK0HhAjzqgI11IX0xlv79KZwlJgh3Van8rNwJwAO2Fqcpt5WfXDkxEHEqbSYDNidSogSfz8fQV9dBW7EQ3uJAoiX3d1KRyTFWDnrCBAd0KgOixKhE1Y3dSescdrQiCgEqw7zRERSVI41qk6dmviaj4li8yqfPQnDu7FSLtssCG4cT71ArxNWoDj9O8PEvHtPgSYEJybOUPBY1GIy5noaNBgqqiL9ET+5P5tERlRYB8VYvoK6uJn1cvYjpK0J7dICkEp0ajETwOCtPr9cQsFFZTDptgSY24G0KDK6kw0TTOgs6IrUg8UhinnhxdWJKFCihJoxrViRzsV45qcS3kRDE2xEYZCAx56LEqDWYmfE3fOGXZmQRAhVQJ6UhhOxXAKVKW8ikByWl5jwkIKKb9rawIwKO0iL6y2vd59QLHGQwGfII1KysrLCzsyJEjYLfCwsKoqKiLFy+eO3cOy71pBuPu3bvHjx9H83gHCq5mMBhiY2MvXLjw22+/EYOzr8giqCc2RA0mrEScSDUgARYTRXHbtm1FRUWxsbGnTp0yqUGv1x8+fBh7E0ILcD1uVtg5HIPBIMtySkpKVFSUoignT568cOHCxYsXT506JYpifn7+hQsXIiMjo6Oji4qKsNGpoiiFhYXnz583+V4SxOM47uLFi5cuXYqPj8cQQrJBQSy+RCb7cIIdjdj7A+ychRsa6CLL8g8//IAPX6SlpZE5UKcoiocPH0Z5DM/Ulpao3AhoRF+57ftitNuxY8fOnTsVRZkxY8bKlStXrVrVvn17RVEKCgqaN2++Zs0aPz+/uLg4g8Hg6en522+/SZIUHR3t7u5ORAzaAp01atRo6dKlPj4+Xbp0oXiWffaIYhS9ohIwI9ETWzNOJSQkuLu746off/yR5/ng4OCNGzfSdBDmdmRZ/u233+jbgTSEUHOYtKGO4ezsnJ6eLsvyhg0bli5dOnfuXAsLC71eHxkZ2aVLlxUrVixdurSgoECWZXw6RlGUFStW0GffyQAFBQXp6emNGzdetmzZ8OHDvby8WMGoGNqlEYgo3kROmpABlW/ZsmXnzp2YF4KlJk2ahA+5sLcjBoPBz8/vyJEjUBZtUdNaohIjQP6sTd1UYis/l2o8zzs6OoLLiA379OmTkJCg1+v79euXnp6O/IyMjDZt2ri4uKxZsyYqKsrFxcXb2/uzzz6LjY2lCWtBEFq3bg2BevTocenSpXv37o0dO/azzz77/vvv8WmeTZs2ubi4nD59+urVqy4uLs7Ozjt37tTr9WFhYa6ursOHD8eq8+XLl2/evHnkyJH4kPq8efPat2/v6emZlJSET4Hv2LFj7dq1giCcOXPm888/d3FxwYtXiqL07NmTPm8EDsVfmu7HyIRvGyDYh4579uzBFvknTpyYOXMmfa3+7NmzderUcXd337t374YNGxYtWjSm+IcviWNYunHjxieffKIoil6vb9CgAT6TMmrUqOHDh+PuZ926ddu2bRs9evStW7dCQ0NHjhzp7Ox8+vRpSZK2bt06ZMgQNze3jIwMQRAWLVq0cOFCJycnf39/URQdHR379OkzadIkg8GwdOlSWZY9PT3xecvt27ePGDFi9OjR2H49Ozu7f//+wJ+s+Vz+oV1cERDQiL4iWKn8ZMTLSl27dkVoCUGuX7/euXNnzMI7ODi4ublZW1vjA5ujR49OSEgwGo2XLl2ytrbOycm5du3a4MGDWQ2aNGkSHx9/5syZRo0a5ebm9uzZMy4uTlEUZ2fnq1ev/u///m///v2x1t7Ozi4pKUkQhIcPH969e7d3797Z2dkPHz7s1asXz/MDBgzYtWuXJEnOzs4xMTFXrlwZM2YMGrK1tc3Pzw8KClq/fn1BQYG9vX1mZmZWVtZHH31kMBg4jhs+fHhycjIb0lLIzAbaP//8s6+vL+oELfbu3fu3334TRTEmJqZv377Ozs4ODg7YVN3W1hb3FitXrsTHszYW/+gRRWpqqq2tbXx8/N69e7t27frw4cNu3brl5ubm5OR069atoKBg4sSJy5cvNxgMaWlpXbt2zc3N5Xm+oKAgJCTE09PTYDBER0ePGzdOUZR69eolJiYWFRX95z//URRl3bp1e/bsQeHu3bsLgqDT6a5cuRIeHj527FiO4xITEwcNGoT5pY4dO9JMPWsXLV2JEdCIvhIb98Wolp6e3rt3b9qIPzU11d7ePj4+HrWD/uLj4x0cHBRFcXNzS0hIwMfZMTtRWFjYvXt3FMPfFi1aTJ8+fcGCBbGxsUVFRQ0aNPDx8fH09Ozfv39gYOCOHTu++eYbRVHS0tI+/vhjmssOCgrq2LGjrvjXvn37oqKiQYMG4fPuixYtOnr06NWrVz09PbEk8ZNPPsnPz/f391+3bt2pU6fatm3r6+ur0+ns7e2TkpLwve+zZ89CHqJ7NpzH49affvpp6dKlNC2elJTUpUsXGgkwVfL999/jmyF2dnbAZPXq1QEBAaIonj59esaMGVCB47jbt29bWFjMmjXLz8/v3r17586da926tU6n8/X1tbGxuXfv3rhx42JjY7EDhJ+fH4093t7egwcPnjx5sk6n+/TTT3me79KlC+4SevbsmZeXt3XrVmx+aTAY7O3tFUXx8PA4f/78qlWrevXq5eXl5e3t3b17d2hqY2NDH814MS6i1aJ6BDSiV72JyltA4g5E1nZ2diAjyAUySktLw8ehPD09Y2JiRFG8dOmSh4eHoih5eXmOjo6khCAIlpaWtEEjx3HW1ta0nEaW5c2bN+Ob6QUFBe3bt6d1OGFhYV5eXsT7iqIQ0S9evPjIkSPx8fEuLi5oyM7OrqCgIDg4eP369QkJCQMHDqQnrijQr1+/u3fvwvtB96BvIn1MglMEjdmbRYsW7dixgx4PQPd9+/ZNnjxZluWuXbvi1Jo1a0JCQnieP3PmzMyZM+kR6+3bt3v37k0NJSUl9e/fn9Vo3LhxV65cURTl1KlT48ePhzAcx3311VeY16K5exsbG9TTs2dPjuO+/vprfJLJaDTCEN7e3leuXNm0aRM2lqCxShAEGxsbWiZLdtESlRsBjegrt32fVztwmZOTE5apdOvWzcHBYcKECa6urunp6WfOnHFzc1u4cGHHjh0PHjyoKMq33347aNCg1atXR0VFzZo1C98PcnBwwDND8KCVlRX7utB3333Xt2/fZcuWeXh43L59e+fOnd9++y0Ybfny5SNGjPjyyy8R4w8ZMsTX13f58uUYQgYMGPDw4UNMWB87dqyoqKhr164+Pj7gU71ev3fv3jVr1oii6Ovr6+rqumTJEh8fH3xWsGfPnmBYjDG0GYPJWheO4/r160cLWlq1aoWZfY7jdu/erdPpZs6c2bZt25s3byqKMn78+IkTJ4aEhPj5+fn7++Nb5PhKMFbj3Lx5E1+FxvNenucnT57s5ub25Zdfurm5KYri6uqalJSEz8Y6OTn5+vouXrz44MGDDx8+7Nmz58yZM5ctW7Zq1SpJkuzt7TE+9erVKysr6+LFi/b29rNmzTIajfb29rIse3h4nDt3rqioqG/fvjqdbvny5fPmzVMUJS4ubsKECSZvGDyvl2jXqx4BjehVb6JyFRAB9fnz5/GtjMzMzPT09EePHuXn52PBTHp6ekxMDL7vCB7PycnJy8sTBAHfd+Z5nr6YjFmj/G4AABRJSURBVLAan0imOFoUxezs7NjY2NTUVFEUCwsL2deOMjIy8DFuwJCcnBwbG4u5ZnoQmp+fr9frsV17RkZGUVERmjYU/zDpdOvWrfj4+KKiIlEUAwMD8W13evBAQTpawSVYvDh//vyoqCgs6MS4gjJ6vf7mzZsIwPFZV57nMzIysPISY4Ner6eBAQF4Tk4OEqiE5/nbt29fv349NzdXURR84J5i/ISEBEyRYRyKj49PSEgAR+M1NJ7noSlem0pNTeU4DlVlZWWhb4uiePPmzZiYGLQ7ZcoUyKxxPUxgJn81ojcTQz+7mpi5BsVQ5AviE0WRfd0JbeAmgOM4Iizksy+mkjQo/LRng7IsU/14IYulJ0S+VBVLoLQwn8iOJJdl+c6dOzR3xF4FZodIVG1RUREWpFNJURQxMAAEpKkj0Rp/GkVwl2AyltBZCEaPB2hyhm41UBLjIjvlghZJKqqQ5EcCrwGjmCAIWHtDbw6TmlqiciNA/qktr6zchn527eAiRB+gLfaQdr/By5/gd6Ih0CKRPhEWERNNHxP5okLa6QXxNVWIQxKANhUgiqQc6Ey3DmyLxI8kGNWPYvQiK4nHcRyroEnlJkMLhi72VWEMUewIQatxqGlBEHBzUIq1IDDNJuGQxh5URVDQMEltUYKGllLa0k5VGgTgGNqbsZXGoC9YEaIMMBTRK/tWEZEmtU2spygKcQ34F8REj1hZcsfl1CLF4CZvybJcRmMM6sElEBLBL950hfD4i8shFV1OdE/Xki5ImNAiSJ/dzQ1iY3BCE2wNtIcBMglGitAhCYGM+qkGwoTeL2MHLYIU1VLl1BY78qEGTGFR/Vqi0iOgEX2lN/HzKsjzPKiE3vI3Go14mopgmfgOT1yJaOBb4DLsgkDhJPEUagDB4awJWxGLkRp494paoWupAJ58Ulvk4lSAYnyaZgGTEpsTU6NyGqswgFGLKEbbDBgMBkiLApCQhiuadKJJLVIBV0E8onJkUhlCjHZbozEStzgkFfJxIWkKNEgv1Ma2S+BoiUqJAPUCbeqmUtr3BSgFyiDGoQT45UmygEuxFGMiBDEj5VMlJtdSJGvC2pCBNm7EVcg0aRc10IYBJmdNmsMh3aCgMGRjb0HAkiwOJB5Lx2ymST6dYiuhYYZaxFmCC/KA0E0UQUlWSOhCdaI8KcgCS1bQEpUYAfIHjegrsZU11TQENATMGgGN6M3a/JryGgIaAuaAgEb05mBlTUcNAQ0Bs0ZAI3qzNr+mvIaAhoA5IKARvTlYWdNRQ0BDwKwR0IjerM2vKa8hoCFgDghoRG8OVtZ01BDQEDBrBDSiN2vza8prCGgImAMCGtGbg5U1HTUENATMGgGN6M3a/JryGgIaAuaAgEb05mBlTUcNAQ0Bs0ZAI3qzNr+mvIaAhoA5IKARvTlYWdNRQ0BDwKwR0IjerM2vKa8hoCFgDghoRG8OVtZ01BDQEDBrBDSiN2vza8prCGgImAMCGtGbg5U1HTUENATMGgGN6M3a/JryGgIaAuaAgEb05mBlTUcNAQ0Bs0ZAI3qzNr+mvIaAhoA5IKARvTlYWdNRQ0BDwKwR0IjerM2vKa8hoCFgDghoRG8OVtZ01BDQEDBrBDSiN2vza8prCGgImAMCGtGbg5U1HTUENATMGgGN6M3a/JryGgIaAuaAgEb05mBlTUcNAQ0Bs0ZAI3qzNr+mvIaAhoA5IKARvTlYWdNRQ0BDwKwR0IjerM2vKa8hoCFgDghoRG8OVtZ01BDQEDBrBDSiN2vza8prCGgImAMCf5fovby8AAddwPO8oiiyyn4mNpMkiQRWmaQli0Py47TJYcnXqCmXBEYC4KvQT0RRNBGVBFYTnE+VRVEU1rcVRVFnf3yaAgS+LMuSJLGHT7tEVfkksElCVULKskx+Looix3GKooSGhoaFhbFiV6EDURQnT57M87wgCNR16azaEuqXsBTEqPdSGZOeQPmqTcDXQe5PqqM2sUlaCKw28UqRh/gRnZm6dCmXqOdUiZ20xEz1yFxBJZEkifWNvyB6nU5HepI9MERQvhoSkI3tvWqQ6h/JQPDiKpPDf1SVVrgUBDCCVlB4WbEFQUCAX4qy6jwFAoIu6o8JWAxZ/Cm/xEw6Wy4JNqg3GAyiKIaGhp44cYIV5k8Rvbu7OzoG7IFogh0o2CvVkGb9hmIfNQj2d2Qgj6HE37lKDWVIYEqoQaonZTBh+QoXGRC8dMNX4VRQFAVDFGikYnVSoE1WeNLB1JNDQgLhAwcOHD58mBXvT0Q/bdo0zAOitFT8Y0tr6ReIANmGEi+w8rKvSv19uCKy5JN2rHDeAoHhHhVO+CfxV2GOLMscx2FAxcR7aGjoqVOnWFH/RPQeHh44R/YQRZHS7GXlnmalYtPlLtjfEaBETiwx8+/UVl5lWNjVGROQhBQRlxdWz9auSUSp5nvrEhWscAKXqAUyyRbkVKUULuNTLHUgHRIScuTIEVaMPxH99OnTi4qKFEURRdFoNLLl1JZm4cYDZLVJWIo8JLxY/ENJyizlQvWcEop/JI86hacOwE7xYeEKSV6BEuibFUhgevRtMBhI7ArE/qIosp5DKqgtQdNihG1wcPDJkydZOf9E9B06dJg8ebKHh8fkyZO9vb11Op27u7u3t7ePyn46nc67+KfT6Tw9PV2Lf56enioT86nieHt7+/r6enp6ji3+eXp6+vr6qhDnpykwceLEsWPHurq6enl56XQ6r+KfTqd7Wvnyyod4vr6+Xl5ePj4+Op1uwoQJI0aMKC95nrldb29vT0/PkSNHuru7qxDnp+k1adIkz+LfyJEjPTw8PD09p06d6uHh8bTyast3dXUdN26cu7s7/MfX11dtEkIe9EFPT88pU6Z4eXm5u7sPGjTo2LFjpkSPuxJJknx8fBRFwTIbDA40RLDXlHsas1Ek6q1bt/z8/Ng1CVBBlmWVh2/+/v6YSsMUGdDmeZ5mkykmLXfMTQTw8/NLSUmBeGqeGIEDGI1Guufw9vaG2CbYqtDVITz8QVEUNzc3ipFNzKHOQ2DOcZyvry8kVG1/hKjwAep9MTEx3377LZ4nU2hPjqQezOHJxIqKohw6dAhETxMzjyN6IvrJkycXFhayCqjWMDzPkw7Xrl3btm0b7rOI7skeKlweCsNwHHfw4MHw8HD2xpbEhhXUOfctCMKGDRvu3bsnSRJZwURy1ovKK039lgQA6VCX0Ov15DBURoUJdEOdTqfC0agUuCC2KIo6nU4QBAhP4JdyYRmfYt8cItKUJCk+Pn7Lli2sY7NdtYyFLKU5SZKAKtF1cHBweHg4eYsoiv9P9LIsw+/1ej0e46Jqk8CnlPbK7BQpgBZFUczOzkYavIMCKpTcBKLCwkJyHYPBIMsyDGaioMlV5X4oy3J+fj6NoORe5S5YiQLAmSkiy83NNSnGervJqXI/pD5cUFBQVFSkcsd4Glw5OTkqH1B5nge2rDPn5+dTpizLLLc8TdPyyueLf3TDJ0kSEQvuSH6fo0dQT10XFImhjB3QyksNk3bBhhzHQWwYA3JSjEmHKowg4PRwKROWodtGet9dzcOVykcmYkkT/wHyhYWFtPSAeohJyfI9FEUR3sv2QTX7Q4lwEXVCCzossXC5ZLIUQe9egAxZblHzFCVwwywfJAfOHMfBYf5E9ChN9rh58yZi/HJB/y8bhQ2IEGVZTktLi4iICA0NzcrKwtqhv6ykXAqQr8PDDAZDfn5+ZPGP3mOAeUjHcpHzaY3iiYIgCFAkLy8vLS3taYXLPZ+YUa/X5+bmhoeH37p1i6QCwjQPTvlqSKDH4lGTwWC4c+eOmvvjk4hJkqTX6y9dunT69OnCwkK6qXqyZPnmUDdEFAw579y5c+DAgePHjwNzGmtV2CVZkcjb79+/n5+fjwjm96kbQhkKw72mTp1arVq1+/fv01n1JGhemMYr0PqIESM8PT0nTJhQr149POSkkuoRnu5hgbYoitevX2/evPnIkSP79OljbW0N/FUlcInCCIKQn5/fokWL2rVru7q6koeVWLhcMiGSIAhI3L9/v3Xr1tOnT7ezs9u0aRO6Lnq1CoUHYnCSqVOnNmvWrHr16hkZGeWC5LM1WlBQ0Lhx48GDBw8dOtTKyuru3bvk/M9W4cu7ijodEvfv3+/du7ePj4+zs3PLli0zMzPRNNH9y5PkmWsGGeKpXlxcXL169SZNmpSXl4cKf4/oqXbc7UZHR48aNer9999PTU1VrW6sYJTGzfjatWtNduIkBdWQIGkREdMcAs/zvXr12rNnD8YtdpZNDWKTDDQDKIpiYWFhYGDgoEGD1MmVdPMkSZKXl9eKFSsURUlPT2/YsKHJxA4ZhdQs9wQNUXl5eRzHNWrU6P79+0RJ5S7eXwpQUFCAN0UEQRg/fryfnx87M/mXl5dxAXJgBMgE/sCBA3ft2gVh1NklEQ3QbhOKogwYMMDDwwM7HeClqD8RPSahBEH46KOPHj161KBBA3VGEOiTUI/WpWBnn3v37l2+fPnTTz8NDQ1lH6aXsdP8ZXPwePgWHAtK2dramrzpQFb8yzrLsgCkwiTy4cOHP/vss7Js/R+1RQxubW3966+/4trWrVtfu3YNfQODARX7R5W/7MKQCn/fe+89BMUvu9EXWD9uqWVZHjZs2I4dO4hMX2ATz18VmZ7GfsiZlJQUERHx4Ycf3rhxgyRXZ38kFXie37Jli5+f33//+19vb29i/yohISGBgYH79+8PDg5++PChLMuLFi3auXOnLMuNGze+d+/e8+P4/DWQGqIoZmVlBQcH79+/Pygo6MCBAyEhIbt37+Y4DnQ5c+ZMR0fHLl263LhxQw37N2AcgpfcuXMnKCgoJCQkICDg4MGDe/fuDQ0NxSQaFp+tXbt2yJAhJc64PT+Gz1ADwX7t2rWAgIDg4l9AQEBISMiJEyeglCAIoaGhAwYMwF05LmFnY6mHPIMAz38JwMRfS0vLpKQk1GljYxMdHQ3ZcJaUff5GX1QNrPCKotSvX//+/fvli+c/VQ2eEBgYaGdnh9UT/7SGMihPkEJaLDHgOM7Jyalr165OTk606FyFTkL4wFtu377dq1cvQRDWrFkDov991c2cOXPmz5+/cOHCOXPm3Lx5MykpydLS8vDhw2FhYe+8886ePXtofopqLPsEPe/meT47Oxsyz5o1a/r06dOmTVuyZAkGJGKZH3/8cfDgwZCzHG91Wb4zGAznzp1bsmTJ9OnT586dO2/evIULF86fP5/mFrZv3+7o6EjrRCkf9it7zGkhCsdxR48enT9//ty5cxcsWDB//vzp06dv27YN80uyLAcHBw8ZMqRECdXQMYAkx3GtWrW6fPkyjPLvf//7ypUrahCvRNwokxaBiKLYokWLihXRA94DBw5YW1s/evQIh+p8nsx2VYBPO7yPHz9+/fr11B3INKpKYCiSJGn48OHLly8PCwvz9PQcOnTopUuXQICPp24QdWL3kgcPHkydOnXOnDkLFiyoUaOGTqcr3+eZT3bFJ+MCaMI+mN2/f3+vXr1MVi6Wi2GAKrE27vto3AJX8jy/adOmLl26YCk9xRcmj/vLRX5ILggCzU7SwIOZMVmW9+/fj4i+qKgIwsNq7DbZ5SI83p0mF/L29t68ebOiKPn5+bVr14Zq9JdgLy9RS2wX4kGFpk2b3rx5k/AvsbzaMoODgzt16oQZYHIhtQlJHkJL+Gjxm6IoOp1u6dKl9O46W1glitBskiRJW7dunTdv3owZM3r16tW5c+f9+/dD8sdEz7oOG/9aWFikpqaWL9E/OdISuOzMjCAIWVlZffr0mTp16uTJk1u2bBkcHIyS5WsYk9YNBgOsAloB8r/++uubb745bNgwd3d3V1fXM2fOmNAlqVz2CdYf2CUTgiDAMaZPn+7g4NCiRQs3N7cbN24gk6xmon7Zyw8BEJ1dvny5devWfn5+vXr1Wr16tTqZnYWIJDxw4MD48eOrVq06ZsyYjRs3smXUnE5NTX399dcHDx7s4uIyYcKEwMBANYz9JSLGbi8oiuLhw4ddXFwWLlzo7OzcunXruLg4XFW+ZFii5MjkOA4xAfH5unXrsKUN7kV+fxgrSRLKwbewu3F0dLRJPy+lpZd0iigDz/3YN6TQInUGRVHi4uICin/p6eksK70k2f6yWnaNAUt5FNeD6LOzsw8dOhQeHn7s2LGTJ0+mpqZSzeUbBBH4kiSxN0wknizLJ06cOHToUERExJEjR9LT06EmKUs10CVlmaAIhvrno0ePfvzxx/Pnz5v0Cr1eT4XLUsK/2VZycvLPP/8cERFx4sSJyMjIv3lVuRcrKio6fvz40aNHT548+fPPP9+8ebPcRSpdANrVvaCgIDIycufOnYcPH4bn09ahFD6XXlXZn4VL04iVmpoaHx9P9PinVTfwdZpYeHKSpOylZymDhKb5MpMlNzSHQ52WvaR8hWfvP9g7RFA5CYwEuwlXuatAsgF2+BN8w0Q2YnnKp0TZg48WyX8Q6ZgELiaH5SXk09pFT6QxqXxH/acJWXo+8IcLqXY0pZWUrC70Dh1RvBpiR1ZCSpOEwJk6HRLYHaEKDogx4frUt8t9+KKOSgnQDR3SsERqs3xEO1SwZ8ssTTCy0pLAbLwPGgLa9LRKJctDSQuSh/UKxOzYHwnAlthtygxztiGSk1ZNUChAxcCe6pGZBKNoBjnwCp7nqRuzJdWcpoEKvUC18tOKZ3IbQhWwU8+lfLUlqKsWFBRANoDP8/zvET1sQOWwIufJzHJUjPwDQrLfBICcUIl1JladcpGcACThkQNh4E8mQpJ2KGkyGJSxFtRF2dsREpj6AyFPOWzsQ+XLWHgCGVKRCUgMmlYiNemUShKQmXzmSRVUImcpYsD6tD69fJ2hFDlZj0UasJfo0qXXUy5naY0QTd0QdSCU+dPUTbmIqDWqIaAhoCGgIfBSEfg//MG/inL19X8AAAAASUVORK5CYII=)"
      ]
    },
    {
      "cell_type": "code",
      "metadata": {
        "id": "xfsjPtVZ2t14"
      },
      "source": [
        "df.boxplot(column='Price')"
      ],
      "execution_count": null,
      "outputs": []
    },
    {
      "cell_type": "code",
      "metadata": {
        "id": "-ryQqAyOfkP3"
      },
      "source": [
        "df.loc[(df['Price'] < 2) | (df['Price'] > 3000000)]"
      ],
      "execution_count": null,
      "outputs": []
    },
    {
      "cell_type": "markdown",
      "metadata": {
        "id": "Dwo5vjBpRCxb"
      },
      "source": [
        "### Removing outliers"
      ]
    },
    {
      "cell_type": "code",
      "metadata": {
        "id": "U2WpsGKV_uLc"
      },
      "source": [
        "df = df.loc[(df['Price'] > 2) & (df['Price'] < 3000000)]"
      ],
      "execution_count": null,
      "outputs": []
    },
    {
      "cell_type": "markdown",
      "metadata": {
        "id": "IDvwmi3zxyAr"
      },
      "source": [
        "# Exploratory Data Analysis"
      ]
    },
    {
      "cell_type": "code",
      "metadata": {
        "id": "MFRDIzNzQOFk"
      },
      "source": [
        "import matplotlib.pyplot as plt"
      ],
      "execution_count": null,
      "outputs": []
    },
    {
      "cell_type": "markdown",
      "metadata": {
        "id": "Z3eYcXxVeXWd"
      },
      "source": [
        "### Price vs Avg. Area Income"
      ]
    },
    {
      "cell_type": "code",
      "metadata": {
        "id": "-X9ytBSbzQpu"
      },
      "source": [
        "area_income = df['Avg. Area Income']\n",
        "price = df['Price']\n",
        "plt.scatter(area_income, price, edgecolor='white')\n",
        "plt.xlabel('Avg. Area Income')\n",
        "plt.ylabel('Price')\n",
        "plt.show()"
      ],
      "execution_count": null,
      "outputs": []
    },
    {
      "cell_type": "markdown",
      "metadata": {
        "id": "AZwUnZH8ebx4"
      },
      "source": [
        "### Price vs Number of Rooms"
      ]
    },
    {
      "cell_type": "code",
      "metadata": {
        "id": "PmXjBWVD1SAD"
      },
      "source": [
        "house_age = df['Number of Rooms']\n",
        "price = df['Price']\n",
        "plt.scatter(house_age, price, edgecolor='white')\n",
        "plt.xlabel('Number of Rooms')\n",
        "plt.ylabel('Price')\n",
        "plt.show()"
      ],
      "execution_count": null,
      "outputs": []
    },
    {
      "cell_type": "markdown",
      "metadata": {
        "id": "jcp5VXh6g2t7"
      },
      "source": [
        "### Pairwise relationships"
      ]
    },
    {
      "cell_type": "code",
      "metadata": {
        "id": "v7WfWJMb14Mv"
      },
      "source": [
        "import seaborn as sns\n",
        "sns.pairplot(df)"
      ],
      "execution_count": null,
      "outputs": []
    },
    {
      "cell_type": "markdown",
      "metadata": {
        "id": "syYggjfief7H"
      },
      "source": [
        "### Correlation Matrix"
      ]
    },
    {
      "cell_type": "code",
      "metadata": {
        "id": "tCXjtB8D8YQY"
      },
      "source": [
        "sns.heatmap(df.corr(), annot=True)"
      ],
      "execution_count": null,
      "outputs": []
    }
  ]
}